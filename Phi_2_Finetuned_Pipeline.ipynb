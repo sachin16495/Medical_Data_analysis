{
 "cells": [
  {
   "cell_type": "code",
   "execution_count": 35,
   "id": "05335a03-aab5-4794-ad49-27aa588850e3",
   "metadata": {},
   "outputs": [],
   "source": [
    "import os\n",
    "import pandas as pd\n",
    "import torch\n",
    "import gc\n",
    "import torch\n",
    "import torch.nn as nn\n",
    "from sklearn.model_selection import train_test_split\n",
    "from datasets import load_dataset,Dataset\n",
    "from sklearn.metrics import confusion_matrix,ConfusionMatrixDisplay,classification_report\n",
    "from transformers import AutoTokenizer, PhiForSequenceClassification,AutoModelForCausalLM,AutoModelForSequenceClassification,Trainer, TrainingArguments\n",
    "from peft import PeftModel, PeftConfig,get_peft_model, LoraConfig, TaskType\n",
    "from transformers import pipeline\n",
    "from tqdm import tqdm"
   ]
  },
  {
   "cell_type": "markdown",
   "id": "53902efd-6675-4884-87b8-8b55ff1336b1",
   "metadata": {},
   "source": [
    "## Model Loading\n",
    "The code initializes a pre-trained language model for causal (generative) language modeling tasks using a specific model checkpoint.\n",
    "\n",
    "### Model Selection:\n",
    "\n",
    "A reference to the name of the pre-trained model (\"microsoft/phi-2\") is stored. This model is known for its language generation capabilities.\n",
    "\n",
    "###  Tokenizer Initialization:\n",
    "\n",
    "A tokenizer is loaded from the same pre-trained model. The tokenizer is responsible for converting raw text into tokens (numerical representations) that the model can understand, and vice versa.\n",
    "\n",
    "###  Model Initialization:\n",
    "\n",
    "The language model itself is loaded using a causal language modeling architecture.\n",
    "\n",
    "The model is configured to automatically map its components across available hardware (CPU or GPU) for optimal execution (device_map=\"auto\")"
   ]
  },
  {
   "cell_type": "code",
   "execution_count": 2,
   "id": "71b3dbfd-cf85-422a-860a-14bdad31feec",
   "metadata": {},
   "outputs": [
    {
     "name": "stderr",
     "output_type": "stream",
     "text": [
      "/home/ubuntu/large_model/lib/python3.12/site-packages/torch/cuda/__init__.py:789: UserWarning: Can't initialize NVML\n",
      "  warnings.warn(\"Can't initialize NVML\")\n"
     ]
    },
    {
     "data": {
      "application/vnd.jupyter.widget-view+json": {
       "model_id": "7cfb5e2738974ec9b28370c0e3b35945",
       "version_major": 2,
       "version_minor": 0
      },
      "text/plain": [
       "Loading checkpoint shards:   0%|          | 0/2 [00:00<?, ?it/s]"
      ]
     },
     "metadata": {},
     "output_type": "display_data"
    }
   ],
   "source": [
    "model_name = \"microsoft/phi-2\"\n",
    "\n",
    "tokenizer = AutoTokenizer.from_pretrained(model_name)\n",
    "phi2_base_model = AutoModelForCausalLM.from_pretrained(\"microsoft/phi-2\",device_map=\"auto\")"
   ]
  },
  {
   "cell_type": "markdown",
   "id": "5b5abc99-4944-43b8-bdd6-780d028f18c4",
   "metadata": {},
   "source": [
    "### Model Loading for classification\n",
    "This line of code initializes a pre-trained generative language model (microsoft/phi-2) and prepares it for downstream use in a disease classification system.\n",
    "\n"
   ]
  },
  {
   "cell_type": "code",
   "execution_count": null,
   "id": "1c630177-9c6f-4443-90f8-2f95e4f2f087",
   "metadata": {},
   "outputs": [],
   "source": [
    "\n",
    "#phi2_base_model_classfication = AutoModelForCausalLM.from_pretrained(\"microsoft/phi-2\",device_map=\"auto\")\n",
    "base_model = PhiForSequenceClassification.from_pretrained(model_name)"
   ]
  },
  {
   "cell_type": "code",
   "execution_count": 3,
   "id": "ff4bad56-1a46-4773-a83f-c52d50b2bd4b",
   "metadata": {},
   "outputs": [
    {
     "data": {
      "text/plain": [
       "45"
      ]
     },
     "execution_count": 3,
     "metadata": {},
     "output_type": "execute_result"
    }
   ],
   "source": [
    "gc.collect()"
   ]
  },
  {
   "cell_type": "markdown",
   "id": "de9d8a45-db5c-484d-9908-3d257596538a",
   "metadata": {},
   "source": [
    "## Data Loading\n",
    "Reading data from a text file using file handling and storing each entry into a list.\n",
    "\n"
   ]
  },
  {
   "cell_type": "code",
   "execution_count": 4,
   "id": "1997a0ff-c998-44e0-a349-30b4e955853a",
   "metadata": {},
   "outputs": [],
   "source": [
    "lis_cancer=[]\n",
    "for i in os.listdir(\"/home/ubuntu/dev_large_model/Cancel_non_Cancer/cancer\"):\n",
    "    with open(\"/home/ubuntu/dev_large_model/Cancel_non_Cancer/cancer/\"+i, \"r\") as fp:\n",
    "        fil_read=fp.read()\n",
    "        lis_cancer.append(fil_read)\n",
    "lis_non_cancer=[]\n",
    "for i in os.listdir(\"/home/ubuntu/dev_large_model/Cancel_non_Cancer/non_cancer\"):\n",
    "    with open(\"/home/ubuntu/dev_large_model/Cancel_non_Cancer/non_cancer/\"+i, \"r\") as fp:\n",
    "        fil_read=fp.read()\n",
    "        lis_non_cancer.append(fil_read)\n",
    "\n",
    "\n",
    "#list(map(lambda x : x.split(\":\"), lis_cancer[1].split(\"\\n\")[1:]))\n"
   ]
  },
  {
   "cell_type": "markdown",
   "id": "2846abf1-d389-4bf0-ac14-d6fbcb423ca3",
   "metadata": {},
   "source": [
    "## Data Processing\n",
    "#### Initialize Empty DataFrames\n",
    "\n",
    "Create two empty data containers df_cancer and df_non_cancer for storing structured cancer and non-cancer records, respectively.\n",
    "\n",
    "#### Parse and Structure Text Entries\n",
    "\n",
    "For each text block in lis_cancer and lis_non_cancer:\n",
    "\n",
    "Skip the first line (usually a header or blank).\n",
    "\n",
    "Split each remaining line into a key-value pair using \":\" as delimiter.\n",
    "\n",
    "Construct a dictionary from these pairs.\n",
    "\n",
    "Convert the dictionary into a one-row pandas DataFrame.\n",
    "\n",
    "Append that row to the respective DataFrame using pd.concat.\n",
    "\n",
    "#### Clean Index After Each Append (Only for Cancer Data)\n",
    "\n",
    "For df_cancer, reset the index after each row is appended.\n",
    "\n",
    "Remove the old index column ('index') created during reset.\n",
    "\n",
    "#### Select Relevant Fields\n",
    "\n",
    "Retain only the Title and Abstract fields from both cancer and non-cancer datasets.\n",
    "\n",
    "#### Add Classification Labels\n",
    "\n",
    "Add a new column labels:\n",
    "\n",
    "Set to 'Cancer' for cancer entries.\n",
    "\n",
    "Set to 'Non Cancer' for non-cancer entries.\n",
    "\n",
    "#### Normalize Indexes\n",
    "\n",
    "Reset row indexes for both DataFrames to ensure consistency.\n",
    "\n",
    "#### Merge Datasets\n",
    "\n",
    "Combine df_cancer and df_non_cancer into a single DataFrame called diagnostic_df.\n",
    "\n",
    "#### Rename Columns for Downstream Use\n",
    "\n",
    "Rename the \"Abstract\" column to \"text\" in diagnostic_df, preparing it for tasks like NLP modeling or classification.\n",
    "\n",
    "\n"
   ]
  },
  {
   "cell_type": "code",
   "execution_count": 5,
   "id": "bf6dc0cf-76a4-4f54-a24d-a8dc951c8bad",
   "metadata": {},
   "outputs": [],
   "source": [
    "df_cancer=pd.DataFrame()\n",
    "for i in  lis_cancer:\n",
    "    df=pd.DataFrame.from_dict(dict(map(lambda x: (x.split(\":\")[0].strip(), \" \".join(x.split(\":\")[1:])), i.split(\"\\n\")[1:])),orient='index').T\n",
    "    df_cancer=pd.concat([df_cancer,df])\n",
    "    df_cancer=df_cancer.reset_index()\n",
    "    del df_cancer['index']\n",
    "df_non_cancer=pd.DataFrame()\n",
    "for i in  lis_non_cancer:\n",
    "    df=pd.DataFrame.from_dict(dict(map(lambda x: (x.split(\":\")[0].strip(), \" \".join(x.split(\":\")[1:])), i.split(\"\\n\")[1:])),orient='index').T\n",
    "    df_non_cancer=pd.concat([df_non_cancer,df])\n",
    "    #df_non_cancer=df_non_cancer.reset_index()   \n",
    "    #del df_cancer['index']\n",
    "    #del df_cancer['index']\n",
    "df_cancer=df_cancer[['Title','Abstract']]\n",
    "df_cancer[\"labels\"]='Cancer'\n",
    "df_non_cancer=df_non_cancer[['Title','Abstract']]\n",
    "df_non_cancer['labels']='Non Cancer'"
   ]
  },
  {
   "cell_type": "code",
   "execution_count": 6,
   "id": "d3bdb140-c407-4fcb-98d8-7ce069a033b3",
   "metadata": {},
   "outputs": [],
   "source": [
    "df_cancer.reset_index(drop=True,inplace=True)\n",
    "df_non_cancer.reset_index(drop=True,inplace=True)"
   ]
  },
  {
   "cell_type": "code",
   "execution_count": 7,
   "id": "b2d09480-28de-4229-ad22-0a6037805d54",
   "metadata": {},
   "outputs": [],
   "source": [
    "diagnostic_df=pd.concat([df_cancer,df_non_cancer]).reset_index(drop=True)"
   ]
  },
  {
   "cell_type": "code",
   "execution_count": 8,
   "id": "5a76fdec-53b3-4ca8-89c5-3fcdfa374635",
   "metadata": {},
   "outputs": [
    {
     "data": {
      "text/plain": [
       "Index(['Title', 'Abstract', 'labels'], dtype='object')"
      ]
     },
     "execution_count": 8,
     "metadata": {},
     "output_type": "execute_result"
    }
   ],
   "source": [
    "diagnostic_df.columns"
   ]
  },
  {
   "cell_type": "code",
   "execution_count": 9,
   "id": "548a20b2-9b9c-4903-92b6-55a6352f8b4e",
   "metadata": {},
   "outputs": [],
   "source": [
    "diagnostic_df.rename(columns={\"Abstract\":\"text\"},inplace=True)"
   ]
  },
  {
   "cell_type": "markdown",
   "id": "fffaa3b4-6bc0-45ee-a49a-03a0a06d67a9",
   "metadata": {},
   "source": [
    "## Train Test Split\n",
    "Split the train and test with 80 and 20 percent split encode the ground truth </br>\n",
    "Convert the dataset into huggingface dataset format"
   ]
  },
  {
   "cell_type": "code",
   "execution_count": 10,
   "id": "be008440-e945-429e-a4b7-979546c89287",
   "metadata": {},
   "outputs": [],
   "source": [
    "train_df, test_df= train_test_split(diagnostic_df, test_size=0.2, random_state=42)\n"
   ]
  },
  {
   "cell_type": "code",
   "execution_count": 11,
   "id": "4827e091-1d6f-4aa8-8006-05ea4c97c0b0",
   "metadata": {},
   "outputs": [],
   "source": [
    "del train_df['Title']"
   ]
  },
  {
   "cell_type": "code",
   "execution_count": 12,
   "id": "32fed767-84f2-4818-908c-e193606d8aac",
   "metadata": {},
   "outputs": [],
   "source": [
    "del test_df['Title']"
   ]
  },
  {
   "cell_type": "code",
   "execution_count": 13,
   "id": "80c7d417-e7d1-4b71-9b2c-48207e30dc1d",
   "metadata": {},
   "outputs": [],
   "source": [
    "train_df['labels']=train_df['labels'].map({\"Cancer\":1,\"Non Cancer\":0})"
   ]
  },
  {
   "cell_type": "code",
   "execution_count": 14,
   "id": "63408b38-ce17-47d1-b5a8-5e6ebacf4ec5",
   "metadata": {},
   "outputs": [],
   "source": [
    "#test_df['labels']=test_df['labels'].map({\"Cancer\":1,\"Non Cancer\":0})"
   ]
  },
  {
   "cell_type": "code",
   "execution_count": 14,
   "id": "0ffaf826-f751-42e9-8caf-74c96e227a67",
   "metadata": {},
   "outputs": [],
   "source": [
    "tokenizer.pad_token = tokenizer.eos_token\n"
   ]
  },
  {
   "cell_type": "code",
   "execution_count": 15,
   "id": "ad200e7f-24d9-4495-999d-6206525b3c42",
   "metadata": {},
   "outputs": [],
   "source": [
    "\n",
    "train_dataset = Dataset.from_pandas(train_df,split=\"train\")"
   ]
  },
  {
   "cell_type": "code",
   "execution_count": 16,
   "id": "94ed4e6e-a7b4-4edf-988a-1e242d3f21bb",
   "metadata": {},
   "outputs": [],
   "source": [
    "test_dataset = Dataset.from_pandas(test_df,split=\"test\")"
   ]
  },
  {
   "cell_type": "code",
   "execution_count": 17,
   "id": "9405fad1-c583-498c-99fa-7a69cc29b21f",
   "metadata": {},
   "outputs": [],
   "source": [
    "\n",
    "os.environ[\"TOKENIZERS_PARALLELISM\"] = \"false\"\n"
   ]
  },
  {
   "cell_type": "markdown",
   "id": "5a63ec0e-bd85-40b7-aad4-2230a21224cc",
   "metadata": {},
   "source": [
    "### Remove irrelevant Cache from RAM and GPU"
   ]
  },
  {
   "cell_type": "code",
   "execution_count": 22,
   "id": "df4fb08e-e7b5-4523-8569-159e8dc4ae6a",
   "metadata": {},
   "outputs": [
    {
     "data": {
      "text/plain": [
       "2395"
      ]
     },
     "execution_count": 22,
     "metadata": {},
     "output_type": "execute_result"
    }
   ],
   "source": [
    "torch.cuda.empty_cache()\n",
    "gc.collect()"
   ]
  },
  {
   "cell_type": "code",
   "execution_count": 22,
   "id": "934790ba-fb5a-49ad-acb7-518995f34631",
   "metadata": {},
   "outputs": [
    {
     "data": {
      "text/plain": [
       "Dataset({\n",
       "    features: ['text', 'labels'],\n",
       "    num_rows: 800\n",
       "})"
      ]
     },
     "execution_count": 22,
     "metadata": {},
     "output_type": "execute_result"
    }
   ],
   "source": [
    "train_dataset"
   ]
  },
  {
   "cell_type": "markdown",
   "id": "9b5df464-a6d4-4080-8442-88913566b6e1",
   "metadata": {},
   "source": [
    "## Classification Head addition in the architectecture \n",
    "\n",
    "I wrap this expert with a new layer that acts like a decision maker\n",
    "This new decision maker listens to the experts final thoughts last layer hidden states and then decides if the case is cancer or non cancer\n",
    "This is done by a linear layer classifier that maps the understanding into two possible outcomes Cancer or Non Cancer\n",
    "<ul><li>Model Architecture PhiForClassification</li>\n",
    "The model starts with a pretrained expert base model such as Phi2 who understands medical language\n",
    "On top of that we add a yes or no classification layer that turns understanding into a diagnostic decision cancer vs non cancer\n",
    "\n",
    "<li>Forward Process</li>\n",
    "The model reads patient records using input IDs and attention mask\n",
    "It extracts the deepest insight from the last token like the experts final conclusion\n",
    "This insight is passed to the classifier which makes the final predictio\n"
   ]
  },
  {
   "cell_type": "code",
   "execution_count": null,
   "id": "61edd9bc-d768-4ecf-9a98-9a19933fd060",
   "metadata": {},
   "outputs": [],
   "source": [
    "# Step 2: Wrap with Classification Head\n",
    "class PhiForClassification(nn.Module):\n",
    "    def __init__(self, base_model, num_labels):\n",
    "        super().__init__()\n",
    "        self.backbone = base_model\n",
    "        self.config = base_model.caonfig  \n",
    "        self.classifier = nn.Linear(base_model.config.hidden_size, num_labels)\n",
    "\n",
    "    def forward(self, input_ids=None, attention_mask=None, labels=None, **kwargs):\n",
    "        kwargs[\"output_hidden_states\"] = True\n",
    "\n",
    "        outputs = self.backbone(\n",
    "            input_ids=input_ids,\n",
    "            attention_mask=attention_mask,\n",
    "            #output_hidden_states=True,\n",
    "             **kwargs\n",
    "        )\n",
    "        hidden_state = outputs.hidden_states[-1]  # shape: (batch, seq_len, hidden)\n",
    "        pooled = hidden_state[:, -1, :]  # last token\n",
    "        logits = self.classifier(pooled)\n",
    "\n",
    "        loss = None\n",
    "        if labels is not None:\n",
    "            loss_fn = nn.CrossEntropyLoss()\n",
    "            loss = loss_fn(logits, labels)\n",
    "\n",
    "        return {\"loss\": loss, \"logits\": logits} if loss is not None else {\"logits\": logits}\n",
    "# Wrap base model\n",
    "model = PhiForClassification(base_model, num_labels=2)  # change num_labels as needed\n"
   ]
  },
  {
   "cell_type": "markdown",
   "id": "0a16b8ec-52cf-413f-8feb-7803e2c3d07a",
   "metadata": {},
   "source": [
    "## LoRA Configuration :\n",
    "\n",
    "Specifies how low-rank adapters should be injected into the model.\n",
    "\n",
    "r=5: Sets the rank (size) of the adapter matrices — smaller means fewer trainable parameters.\n",
    "\n",
    "lora_alpha=16: A scaling factor that influences the strength of the adapter’s update.\n",
    "\n",
    "lora_dropout=0.05: Applies dropout to the adapter during training for regularization.\n",
    "\n",
    "target_modules=[\"k_proj\", \"v_proj\"]: LoRA is only applied to key and value projection layers in the attention mechanism.\n",
    "\n",
    "task_type=TaskType.SEQ_CLS: Indicates the model is being fine-tuned for a sequence classification task.\n",
    "\n"
   ]
  },
  {
   "cell_type": "code",
   "execution_count": null,
   "id": "65952851-199b-4291-aa08-23ee00d61bd8",
   "metadata": {},
   "outputs": [],
   "source": [
    "\n",
    "lora_config = LoraConfig(\n",
    "    r=5,\n",
    "    lora_alpha=16,\n",
    "    lora_dropout=0.05,\n",
    "    #target_modules=[\"q_proj\", \"k_proj\", \"v_proj\"],\n",
    "    target_modules=[ \"k_proj\", \"v_proj\"],\n",
    "    task_type=TaskType.SEQ_CLS\n",
    ")\n",
    "model = get_peft_model(model, lora_config)\n",
    "model = model.to(torch.float32)"
   ]
  },
  {
   "cell_type": "markdown",
   "id": "16e96c99-1bfb-42af-bdb1-42cd65dc345c",
   "metadata": {},
   "source": [
    "## Define a preprocessing function:\n",
    "\n",
    "tokenizer(...): Converts raw text (example[\"text\"]) into token IDs using a pre-trained tokenizer.\n",
    "\n",
    "padding=\"max_length\": Ensures all tokenized sequences are padded to the same length (here, 250 tokens).\n",
    "\n",
    "truncation=True: Trims texts longer than the max length to avoid overflow.\n",
    "\n",
    "max_length=250: Sets a fixed sequence length for all inputs.\n",
    "\n",
    "enc[\"labels\"] = example[\"labels\"]: Assigns the correct class label for training (e.g., cancer vs non-cancer).\n",
    "\n",
    "Apply preprocessing to the dataset:\n",
    "\n",
    "dataset.map(preprocess): Efficiently transforms the entire dataset by applying the preprocess function to each text into token.\n",
    "\n"
   ]
  },
  {
   "cell_type": "code",
   "execution_count": null,
   "id": "2f21bdf3-416d-4fd9-8b65-fc7b2034d779",
   "metadata": {},
   "outputs": [],
   "source": [
    "\n",
    "def preprocess(example):\n",
    "    enc = tokenizer(\n",
    "        example[\"text\"],\n",
    "        padding=\"max_length\",\n",
    "        truncation=True,\n",
    "        max_length=250\n",
    "    )\n",
    "    enc[\"labels\"] = example[\"labels\"]\n",
    "    return enc\n",
    "\n",
    "dataset = train_dataset#Dataset.from_list(examples)\n",
    "dataset = dataset.map(preprocess)"
   ]
  },
  {
   "cell_type": "markdown",
   "id": "bee5d55c-3180-43d3-b131-6f4557484c74",
   "metadata": {},
   "source": [
    "## Training setup\n",
    "<b>Temporal Scope:</b>\n",
    "The system will experience 3 full exposures (num_train_epochs) to the training environment (dataset), reinforcing its understanding over time.\n",
    "\n",
    "<b>Load Management:</b>\n",
    "The system will process 1 unit of experience per interaction (per_device_train_batch_size=1) but will accumulate gradients over 8 such steps (gradient_accumulation_steps=8) before updating itself — simulating a delayed learning reflection.\n",
    "\n",
    "<b>Precision of Thought:</b>\n",
    "fp16=False, bf16=False: The system will work in full precision (float32), prioritizing numerical stability over efficiency, avoiding compressed or lossy computation.\n",
    "\n"
   ]
  },
  {
   "cell_type": "code",
   "execution_count": null,
   "id": "3980cad6-4ddf-465d-9776-84486f03ea59",
   "metadata": {},
   "outputs": [],
   "source": [
    "\n",
    "training_args = TrainingArguments(\n",
    "    output_dir=\"phi2_cls\",\n",
    "    per_device_train_batch_size=1,\n",
    "    num_train_epochs=3,\n",
    "    gradient_accumulation_steps=8,\n",
    "    logging_steps=10,\n",
    "    fp16=False,\n",
    "    save_steps=50,\n",
    "    report_to=\"none\",\n",
    "    #per_device_train_batch_size=4,\n",
    "    #gradient_accumulation_steps=4,\n",
    "    #fp16=False,            # <- critical to disable half precision\n",
    "    bf16=False            # <- also off if on A100\n",
    "\n",
    "    \n",
    ")\n",
    "trainer = Trainer(\n",
    "    model=model,\n",
    "    args=training_args,\n",
    "    train_dataset=dataset,\n",
    "    tokenizer=tokenizer\n",
    "#    fp16=False,  # <- important\n",
    "\n",
    ")"
   ]
  },
  {
   "cell_type": "code",
   "execution_count": null,
   "id": "58620431-cabb-4484-8d1c-62431c14996f",
   "metadata": {
    "scrolled": true
   },
   "outputs": [
    {
     "data": {
      "application/vnd.jupyter.widget-view+json": {
       "model_id": "52e17a29ec86474e83c574cfc94c19f0",
       "version_major": 2,
       "version_minor": 0
      },
      "text/plain": [
       "Loading checkpoint shards:   0%|          | 0/2 [00:00<?, ?it/s]"
      ]
     },
     "metadata": {},
     "output_type": "display_data"
    },
    {
     "name": "stderr",
     "output_type": "stream",
     "text": [
      "The installed version of bitsandbytes was compiled without GPU support. 8-bit optimizers and GPU quantization are unavailable.\n"
     ]
    },
    {
     "data": {
      "application/vnd.jupyter.widget-view+json": {
       "model_id": "cef035e3d53641dfb14f9f9433d947af",
       "version_major": 2,
       "version_minor": 0
      },
      "text/plain": [
       "Map:   0%|          | 0/800 [00:00<?, ? examples/s]"
      ]
     },
     "metadata": {},
     "output_type": "display_data"
    },
    {
     "name": "stderr",
     "output_type": "stream",
     "text": [
      "/tmp/ipykernel_2839/4273494465.py:95: FutureWarning: `tokenizer` is deprecated and will be removed in version 5.0.0 for `Trainer.__init__`. Use `processing_class` instead.\n",
      "  trainer = Trainer(\n"
     ]
    },
    {
     "data": {
      "text/html": [
       "\n",
       "    <div>\n",
       "      \n",
       "      <progress value='295' max='300' style='width:300px; height:20px; vertical-align: middle;'></progress>\n",
       "      [295/300 21:49:56 < 22:21, 0.00 it/s, Epoch 2.94/3]\n",
       "    </div>\n",
       "    <table border=\"1\" class=\"dataframe\">\n",
       "  <thead>\n",
       " <tr style=\"text-align: left;\">\n",
       "      <th>Step</th>\n",
       "      <th>Training Loss</th>\n",
       "    </tr>\n",
       "  </thead>\n",
       "  <tbody>\n",
       "    <tr>\n",
       "      <td>10</td>\n",
       "      <td>0.678800</td>\n",
       "    </tr>\n",
       "    <tr>\n",
       "      <td>20</td>\n",
       "      <td>0.826900</td>\n",
       "    </tr>\n",
       "    <tr>\n",
       "      <td>30</td>\n",
       "      <td>0.738000</td>\n",
       "    </tr>\n",
       "    <tr>\n",
       "      <td>40</td>\n",
       "      <td>0.750200</td>\n",
       "    </tr>\n",
       "    <tr>\n",
       "      <td>50</td>\n",
       "      <td>0.678200</td>\n",
       "    </tr>\n",
       "    <tr>\n",
       "      <td>60</td>\n",
       "      <td>0.630300</td>\n",
       "    </tr>\n",
       "    <tr>\n",
       "      <td>70</td>\n",
       "      <td>0.672900</td>\n",
       "    </tr>\n",
       "    <tr>\n",
       "      <td>80</td>\n",
       "      <td>0.712600</td>\n",
       "    </tr>\n",
       "    <tr>\n",
       "      <td>90</td>\n",
       "      <td>0.638800</td>\n",
       "    </tr>\n",
       "    <tr>\n",
       "      <td>100</td>\n",
       "      <td>0.657000</td>\n",
       "    </tr>\n",
       "    <tr>\n",
       "      <td>110</td>\n",
       "      <td>0.614000</td>\n",
       "    </tr>\n",
       "    <tr>\n",
       "      <td>120</td>\n",
       "      <td>0.572700</td>\n",
       "    </tr>\n",
       "    <tr>\n",
       "      <td>130</td>\n",
       "      <td>0.539900</td>\n",
       "    </tr>\n",
       "    <tr>\n",
       "      <td>140</td>\n",
       "      <td>0.496100</td>\n",
       "    </tr>\n",
       "    <tr>\n",
       "      <td>150</td>\n",
       "      <td>0.507300</td>\n",
       "    </tr>\n",
       "    <tr>\n",
       "      <td>160</td>\n",
       "      <td>0.452100</td>\n",
       "    </tr>\n",
       "    <tr>\n",
       "      <td>170</td>\n",
       "      <td>0.491700</td>\n",
       "    </tr>\n",
       "    <tr>\n",
       "      <td>180</td>\n",
       "      <td>0.429700</td>\n",
       "    </tr>\n",
       "    <tr>\n",
       "      <td>190</td>\n",
       "      <td>0.405000</td>\n",
       "    </tr>\n",
       "    <tr>\n",
       "      <td>200</td>\n",
       "      <td>0.442300</td>\n",
       "    </tr>\n",
       "    <tr>\n",
       "      <td>210</td>\n",
       "      <td>0.329700</td>\n",
       "    </tr>\n",
       "    <tr>\n",
       "      <td>220</td>\n",
       "      <td>0.325600</td>\n",
       "    </tr>\n",
       "    <tr>\n",
       "      <td>230</td>\n",
       "      <td>0.276100</td>\n",
       "    </tr>\n",
       "    <tr>\n",
       "      <td>240</td>\n",
       "      <td>0.271400</td>\n",
       "    </tr>\n",
       "    <tr>\n",
       "      <td>250</td>\n",
       "      <td>0.298400</td>\n",
       "    </tr>\n",
       "    <tr>\n",
       "      <td>260</td>\n",
       "      <td>0.238500</td>\n",
       "    </tr>\n",
       "    <tr>\n",
       "      <td>270</td>\n",
       "      <td>0.299800</td>\n",
       "    </tr>\n",
       "    <tr>\n",
       "      <td>280</td>\n",
       "      <td>0.235400</td>\n",
       "    </tr>\n",
       "    <tr>\n",
       "      <td>290</td>\n",
       "      <td>0.245800</td>\n",
       "    </tr>\n",
       "  </tbody>\n",
       "</table><p>"
      ],
      "text/plain": [
       "<IPython.core.display.HTML object>"
      ]
     },
     "metadata": {},
     "output_type": "display_data"
    }
   ],
   "source": [
    "# Step 6: Train\n",
    "trainer.train()\n"
   ]
  },
  {
   "cell_type": "markdown",
   "id": "e8643844-fe7a-4da6-a1dd-9d18f54b502d",
   "metadata": {},
   "source": [
    "## Loading model from check points\n",
    "Specifies the path to the saved fine-tuned model checkpoint, representing the model state after 300 steps of training.\n",
    "\n",
    "base_model = PhiForSequenceClassification.from_pretrained(model_name)\n",
    "\n",
    "Loads a pre-trained Phi model adapted for sequence classification tasks, using weights from a base model_name.\n",
    "\n",
    "model = PeftModel.from_pretrained(base_model, checkpoint_path)\n",
    "\n",
    "Wraps the base model with PEFT (Parameter-Efficient Fine-Tuning) logic.\n",
    "\n",
    "Injects LoRA-adapted weights from the saved checkpoint, enabling task-specific adaptation without updating all base model parameters.\n",
    "\n",
    "tokenizer = AutoTokenizer.from_pretrained(checkpoint_path)\n",
    "\n",
    "Loads the tokenizer configuration (vocab, special tokens, etc.) from the same checkpoint, ensuring alignment with how the model was trained.\n",
    "\n",
    "tokenizer.pad_token = tokenizer.eos_token\n",
    "\n",
    "Sets the padding token to the end-of-sequence token, a workaround often used with decoder-only language models lacking a native pad token.\n",
    "\n"
   ]
  },
  {
   "cell_type": "code",
   "execution_count": 19,
   "id": "70922d7b-42bf-45a3-90fa-769605928dbc",
   "metadata": {},
   "outputs": [],
   "source": [
    "from tqdm import tqdm\n"
   ]
  },
  {
   "cell_type": "code",
   "execution_count": 23,
   "id": "e3c3f0a8-6b3e-41dc-a8e8-e018d0cbd9fd",
   "metadata": {},
   "outputs": [
    {
     "data": {
      "application/vnd.jupyter.widget-view+json": {
       "model_id": "ebc892f2216641878f0db889cca6e5cf",
       "version_major": 2,
       "version_minor": 0
      },
      "text/plain": [
       "Loading checkpoint shards:   0%|          | 0/2 [00:00<?, ?it/s]"
      ]
     },
     "metadata": {},
     "output_type": "display_data"
    },
    {
     "name": "stderr",
     "output_type": "stream",
     "text": [
      "Some weights of PhiForSequenceClassification were not initialized from the model checkpoint at microsoft/phi-2 and are newly initialized: ['score.weight']\n",
      "You should probably TRAIN this model on a down-stream task to be able to use it for predictions and inference.\n",
      "The installed version of bitsandbytes was compiled without GPU support. 8-bit optimizers and GPU quantization are unavailable.\n"
     ]
    }
   ],
   "source": [
    "checkpoint_path = \"./phi2_cls/checkpoint-300\"\n",
    "base_model = PhiForSequenceClassification.from_pretrained(model_name)\n",
    "model = PeftModel.from_pretrained(base_model, checkpoint_path)\n",
    "tokenizer = AutoTokenizer.from_pretrained(checkpoint_path)\n",
    "tokenizer.pad_token = tokenizer.eos_token\n",
    "\n"
   ]
  },
  {
   "cell_type": "markdown",
   "id": "b1ca29f2-6f7e-46cd-88aa-573add85ff5b",
   "metadata": {},
   "source": [
    "## Baseline model Pipeline Defination\n",
    "pipeline(\"text-classification\", ...)\n",
    "\n",
    "Instantiates a high-level inference wrapper for performing sequence-level classification tasks (e.g., sentiment analysis, spam detection, topic classification).\n",
    "\n",
    "model=base_model\n",
    "\n",
    "Uses the base language model, adapted for classification, to compute output logits for each input text sequence.\n",
    "\n",
    "tokenizer=tokenizer\n",
    "\n",
    "Applies the text-to-token transformation consistent with the model’s training, including tokenization, truncation, and padding.\n",
    "\n",
    "return_all_scores=True\n",
    "\n",
    "Ensures the pipeline returns softmax-normalized scores (probabilities) for all possible classes, not just the highest-scoring one.\n",
    "\n"
   ]
  },
  {
   "cell_type": "code",
   "execution_count": 24,
   "id": "585faa57-f2c8-4886-9c61-be552242dab0",
   "metadata": {},
   "outputs": [
    {
     "name": "stderr",
     "output_type": "stream",
     "text": [
      "Device set to use cpu\n"
     ]
    }
   ],
   "source": [
    "clf_pipeline_baseline = pipeline(\"text-classification\",model=base_model,tokenizer=tokenizer,return_all_scores=True)"
   ]
  },
  {
   "cell_type": "markdown",
   "id": "58be770c-6746-45fb-88f8-75c3a2454224",
   "metadata": {},
   "source": [
    "### Base Model Inferncing\n",
    "baseline_output = []\n",
    "\n",
    "Initializes an empty list to accumulate model predictions for each input text.\n",
    "\n",
    "This acts as the container for output scores from the classification process.\n",
    "\n",
    "for abstract_text in tqdm(test_dataset['text']):\n",
    "\n",
    "Iterates over each text instance in the test dataset, specifically from the \"text\" field.\n",
    "\n",
    "tqdm is used for tracking the progress of the loop via a progress bar — helpful for long-running inferences.\n",
    "\n",
    "result = clf_pipeline_baseline(abstract_text)\n",
    "\n",
    "Feeds each text into a Transformer pipeline configured for text classification.\n",
    "\n",
    "Internally, this applies tokenization, passes the data through the model, and computes class probabilities.\n",
    "\n",
    "The return_all_scores=True setting ensures that the model outputs the full distribution of scores across all classes.\n",
    "\n",
    "baseline_output.append(result)\n",
    "\n"
   ]
  },
  {
   "cell_type": "code",
   "execution_count": 30,
   "id": "278cc2ae-01be-46c6-927b-f15adab745de",
   "metadata": {},
   "outputs": [],
   "source": [
    "dict_map2={1:\"Cancer\",0:\"Non Cancer\"}\n",
    "dict_map={\"LABEL_1\":\"Cancer\",\"LABEL_0\":\"Non Cancer\"}"
   ]
  },
  {
   "cell_type": "code",
   "execution_count": 25,
   "id": "d9c301e6-7d08-40b8-9728-503348befd91",
   "metadata": {},
   "outputs": [
    {
     "name": "stderr",
     "output_type": "stream",
     "text": [
      "100%|███████████████████████████████████████| 200/200 [1:09:22<00:00, 20.81s/it]\n"
     ]
    }
   ],
   "source": [
    "baseline_output=[]\n",
    "for abstract_text in tqdm(test_dataset['text']):\n",
    "    result=clf_pipeline_baseline(f\"Categorize the text cancer vs non cancer classes {abstract_text}\")\n",
    "    baseline_output.append(result)"
   ]
  },
  {
   "cell_type": "code",
   "execution_count": null,
   "id": "6ec58b7c-88e7-49c1-8bf9-e3133933f357",
   "metadata": {},
   "outputs": [],
   "source": []
  },
  {
   "cell_type": "code",
   "execution_count": 28,
   "id": "091f7454-0f41-411e-a533-aa4ddac3a5f5",
   "metadata": {},
   "outputs": [
    {
     "data": {
      "text/plain": [
       "[[{'label': 'LABEL_0', 'score': 0.36464840173721313},\n",
       "  {'label': 'LABEL_1', 'score': 0.6353515982627869}]]"
      ]
     },
     "execution_count": 28,
     "metadata": {},
     "output_type": "execute_result"
    }
   ],
   "source": [
    "baseline_output[1]"
   ]
  },
  {
   "cell_type": "code",
   "execution_count": 29,
   "id": "ccd07604-6469-4030-a02d-2a406def44f9",
   "metadata": {},
   "outputs": [],
   "source": [
    "output_baseline_result=[max(i[0], key=lambda d: d['score'])  for i in baseline_output]"
   ]
  },
  {
   "cell_type": "code",
   "execution_count": 54,
   "id": "afda8ebf-b45b-4233-a510-969a19774d87",
   "metadata": {},
   "outputs": [
    {
     "data": {
      "text/plain": [
       "{'label': 'LABEL_1', 'score': 0.6353515982627869}"
      ]
     },
     "execution_count": 54,
     "metadata": {},
     "output_type": "execute_result"
    }
   ],
   "source": [
    "output_baseline_result[1]"
   ]
  },
  {
   "cell_type": "code",
   "execution_count": 31,
   "id": "99120515-2543-4fac-aaa9-986915b74f33",
   "metadata": {},
   "outputs": [],
   "source": [
    "output_baseline_model_res=[{\"label\":dict_map[i['label']],\"score\":i['score']} for i in output_baseline_result]"
   ]
  },
  {
   "cell_type": "markdown",
   "id": "ed52de13-22ce-4b05-8c3c-c53d040ae681",
   "metadata": {},
   "source": [
    "## Baseline Model Evaluation\n"
   ]
  },
  {
   "cell_type": "code",
   "execution_count": 36,
   "id": "7ac95b6b-6e62-4c35-a462-10a8f71a57eb",
   "metadata": {},
   "outputs": [
    {
     "data": {
      "text/plain": [
       "<sklearn.metrics._plot.confusion_matrix.ConfusionMatrixDisplay at 0x76c8d6beb0b0>"
      ]
     },
     "execution_count": 36,
     "metadata": {},
     "output_type": "execute_result"
    },
    {
     "data": {
      "image/png": "[encoded data removed]",
      "text/plain": [
       "<Figure size 640x480 with 2 Axes>"
      ]
     },
     "metadata": {},
     "output_type": "display_data"
    }
   ],
   "source": [
    "conf=confusion_matrix(test_dataset['labels'],[i[\"label\"] for i in output_baseline_model_res],labels=['Cancer','Non Cancer'])\n",
    "disp = ConfusionMatrixDisplay(confusion_matrix=conf,display_labels=['Cancer','Non Cancer'])\n",
    "disp.plot()"
   ]
  },
  {
   "cell_type": "markdown",
   "id": "e903aafc-ce39-48ae-822b-4bfa89ba6da1",
   "metadata": {},
   "source": [
    "### Baseline Model Classification"
   ]
  },
  {
   "cell_type": "code",
   "execution_count": 37,
   "id": "ab333d0a-a3ba-4495-923e-dcccdc9b202a",
   "metadata": {},
   "outputs": [
    {
     "name": "stdout",
     "output_type": "stream",
     "text": [
      "              precision    recall  f1-score   support\n",
      "\n",
      "      Cancer       0.52      0.34      0.41        96\n",
      "  Non Cancer       0.54      0.70      0.61       104\n",
      "\n",
      "    accuracy                           0.53       200\n",
      "   macro avg       0.53      0.52      0.51       200\n",
      "weighted avg       0.53      0.53      0.51       200\n",
      "\n"
     ]
    }
   ],
   "source": [
    "print(classification_report(test_dataset['labels'],[i[\"label\"] for i in output_baseline_model_res]))"
   ]
  },
  {
   "cell_type": "markdown",
   "id": "1f0bc5cb-b88b-4397-8dc0-38b5c2079147",
   "metadata": {},
   "source": [
    "## Inferencing Pipeline for Fine Tuned Model\n",
    "<b>Pipeline Initialization:</b>\n",
    "\n",
    "Creates a text classification inference pipeline using the Hugging Face transformers.pipeline utility.\n",
    "\n",
    "This abstracts away preprocessing (tokenization), model forwarding, and postprocessing (softmax, label mapping).\n",
    "\n",
    "<b>Fine-tuned Model:</b>\n",
    "\n",
    "The model passed here is a fine-tuned transformer-based model, likely adapted for a domain-specific binary classification task (e.g., cancer vs. non-cancer).\n",
    "\n",
    "The model weights reflect task-specific knowledge learned during supervised fine-tuning.\n",
    "\n",
    "<b>Tokenizer Integration:</b>\n",
    "\n",
    "The tokenizer is coupled with the model to ensure consistent text-to-token transformations, which include padding, truncation, and vocabulary mapping.\n",
    "\n",
    "<b>All Class Probabilities:</b>\n",
    "\n",
    "return_all_scores=True instructs the pipeline to return the full probability distribution (e.g., logits or softmax scores) for all classes instead of just the top prediction.\n",
    "\n",
    "This is useful for confidence estimation, threshold tuning, and multi-class/multi-label settings.\n",
    "\n"
   ]
  },
  {
   "cell_type": "code",
   "execution_count": 25,
   "id": "a5c79dee-5d5b-47ab-a89a-7f6338e74ff1",
   "metadata": {},
   "outputs": [
    {
     "name": "stderr",
     "output_type": "stream",
     "text": [
      "The model 'PeftModelForSequenceClassification' is not supported for text-classification. Supported models are ['AlbertForSequenceClassification', 'BartForSequenceClassification', 'BertForSequenceClassification', 'BigBirdForSequenceClassification', 'BigBirdPegasusForSequenceClassification', 'BioGptForSequenceClassification', 'BloomForSequenceClassification', 'CamembertForSequenceClassification', 'CanineForSequenceClassification', 'LlamaForSequenceClassification', 'ConvBertForSequenceClassification', 'CTRLForSequenceClassification', 'Data2VecTextForSequenceClassification', 'DebertaForSequenceClassification', 'DebertaV2ForSequenceClassification', 'DistilBertForSequenceClassification', 'ElectraForSequenceClassification', 'ErnieForSequenceClassification', 'ErnieMForSequenceClassification', 'EsmForSequenceClassification', 'FalconForSequenceClassification', 'FlaubertForSequenceClassification', 'FNetForSequenceClassification', 'FunnelForSequenceClassification', 'GemmaForSequenceClassification', 'Gemma2ForSequenceClassification', 'GlmForSequenceClassification', 'GPT2ForSequenceClassification', 'GPT2ForSequenceClassification', 'GPTBigCodeForSequenceClassification', 'GPTNeoForSequenceClassification', 'GPTNeoXForSequenceClassification', 'GPTJForSequenceClassification', 'IBertForSequenceClassification', 'JambaForSequenceClassification', 'JetMoeForSequenceClassification', 'LayoutLMForSequenceClassification', 'LayoutLMv2ForSequenceClassification', 'LayoutLMv3ForSequenceClassification', 'LEDForSequenceClassification', 'LiltForSequenceClassification', 'LlamaForSequenceClassification', 'LongformerForSequenceClassification', 'LukeForSequenceClassification', 'MarkupLMForSequenceClassification', 'MBartForSequenceClassification', 'MegaForSequenceClassification', 'MegatronBertForSequenceClassification', 'MistralForSequenceClassification', 'MixtralForSequenceClassification', 'MobileBertForSequenceClassification', 'MPNetForSequenceClassification', 'MptForSequenceClassification', 'MraForSequenceClassification', 'MT5ForSequenceClassification', 'MvpForSequenceClassification', 'NemotronForSequenceClassification', 'NezhaForSequenceClassification', 'NystromformerForSequenceClassification', 'OpenLlamaForSequenceClassification', 'OpenAIGPTForSequenceClassification', 'OPTForSequenceClassification', 'PerceiverForSequenceClassification', 'PersimmonForSequenceClassification', 'PhiForSequenceClassification', 'Phi3ForSequenceClassification', 'PhimoeForSequenceClassification', 'PLBartForSequenceClassification', 'QDQBertForSequenceClassification', 'Qwen2ForSequenceClassification', 'Qwen2MoeForSequenceClassification', 'ReformerForSequenceClassification', 'RemBertForSequenceClassification', 'RobertaForSequenceClassification', 'RobertaPreLayerNormForSequenceClassification', 'RoCBertForSequenceClassification', 'RoFormerForSequenceClassification', 'SqueezeBertForSequenceClassification', 'StableLmForSequenceClassification', 'Starcoder2ForSequenceClassification', 'T5ForSequenceClassification', 'TapasForSequenceClassification', 'TransfoXLForSequenceClassification', 'UMT5ForSequenceClassification', 'XLMForSequenceClassification', 'XLMRobertaForSequenceClassification', 'XLMRobertaXLForSequenceClassification', 'XLNetForSequenceClassification', 'XmodForSequenceClassification', 'YosoForSequenceClassification', 'ZambaForSequenceClassification'].\n"
     ]
    }
   ],
   "source": [
    "clf_pipeline = pipeline(\"text-classification\",model=model,tokenizer=tokenizer,return_all_scores=True  )"
   ]
  },
  {
   "cell_type": "markdown",
   "id": "8c5934ef-cd66-45ff-8d2e-791b512cddf5",
   "metadata": {},
   "source": [
    "### Fine Tuned Model Inferncing\n",
    "\n",
    "<b>Prediction Loop Over Test Set:</b>\n",
    "Iterates over each sample (e.g., clinical abstract, document, or input text) in the test dataset to generate predictions from the model.\n",
    "\n",
    "<b>Inference Using Classification Pipeline:</b>\n",
    "For each input text, the clf_pipeline_baseline (which wraps the fine-tuned model and tokenizer) is invoked. This handles:\n",
    "\n",
    "Tokenization of the raw text,\n",
    "\n",
    "Model forward pass to generate logits,\n",
    "\n",
    "Softmax activation and\n",
    "\n",
    "Label mapping.\n",
    "\n",
    "<b>Progress Monitoring:</b>\n",
    "The loop is wrapped with tqdm, a utility that provides a real-time progress bar, helping monitor the inference step during large-scale evaluation.\n",
    "\n",
    "<b>Score Aggregation:</b>\n",
    "The prediction result (typically class probabilities or logits) is appended to a list, baseline_output, which accumulates the model's outputs for the full test set. This list will later be used for performance evaluation (e.g., classification report, confusion matrix).\n",
    "\n"
   ]
  },
  {
   "cell_type": "code",
   "execution_count": 26,
   "id": "fbee2e85-6dad-49bf-a1e6-1f95c79be373",
   "metadata": {},
   "outputs": [
    {
     "name": "stderr",
     "output_type": "stream",
     "text": [
      "100%|███████████████████████████████████████| 200/200 [1:06:50<00:00, 20.05s/it]\n"
     ]
    }
   ],
   "source": [
    "\n",
    "output=[]\n",
    "for abstract_text in tqdm(test_dataset['text']):\n",
    "    result=clf_pipeline(abstract_text)\n",
    "    output.append(result)"
   ]
  },
  {
   "cell_type": "markdown",
   "id": "4f10aaf3-f9a2-415a-8ed8-ae3a395076de",
   "metadata": {},
   "source": [
    "## Decoding the output\n",
    "1. Extracting the max score label\n",
    "2. Mapping it into original label"
   ]
  },
  {
   "cell_type": "code",
   "execution_count": 50,
   "id": "d98e3ccb-bb4a-4511-b102-0c55ba2c0399",
   "metadata": {},
   "outputs": [
    {
     "data": {
      "text/plain": [
       "[[{'label': 'LABEL_0', 'score': 0.83}, {'label': 'LABEL_1', 'score': 0.17}]]"
      ]
     },
     "execution_count": 50,
     "metadata": {},
     "output_type": "execute_result"
    }
   ],
   "source": [
    "output[0]"
   ]
  },
  {
   "cell_type": "code",
   "execution_count": 52,
   "id": "da59f1a4-2007-4036-85f5-a079f42fa501",
   "metadata": {},
   "outputs": [],
   "source": [
    "output_rest=[max(i[0], key=lambda d: d['score'])  for i in output]\n",
    "output2_res=[{\"label\":dict_map[i['label']],\"score\":i['score']} for i in output_rest]"
   ]
  },
  {
   "cell_type": "code",
   "execution_count": 53,
   "id": "d3cfc614-8339-469e-80f9-092f101897ba",
   "metadata": {},
   "outputs": [
    {
     "data": {
      "text/plain": [
       "{'label': 'Non Cancer', 'score': 0.83}"
      ]
     },
     "execution_count": 53,
     "metadata": {},
     "output_type": "execute_result"
    }
   ],
   "source": [
    "output2_res[0]"
   ]
  },
  {
   "cell_type": "markdown",
   "id": "136d17cd-7b46-43ba-ae2f-bad1e653198b",
   "metadata": {},
   "source": [
    "### Fine Tuned Model Evaluation"
   ]
  },
  {
   "cell_type": "code",
   "execution_count": 22,
   "id": "aca8ceb3-bb79-4802-80c0-79915eef63b8",
   "metadata": {},
   "outputs": [],
   "source": [
    "conf=confusion_matrix(test_dataset['labels'],[i[\"label\"] for i in output2_res],labels=['Cancer','Non Cancer'])"
   ]
  },
  {
   "cell_type": "code",
   "execution_count": 23,
   "id": "af69ae56-f579-4a0a-9a02-24a806484d41",
   "metadata": {},
   "outputs": [
    {
     "data": {
      "text/plain": [
       "<sklearn.metrics._plot.confusion_matrix.ConfusionMatrixDisplay at 0x72dde04ca630>"
      ]
     },
     "execution_count": 23,
     "metadata": {},
     "output_type": "execute_result"
    },
    {
     "data": {
      "image/png": "[encoded data removed]",
      "text/plain": [
       "<Figure size 640x480 with 2 Axes>"
      ]
     },
     "metadata": {},
     "output_type": "display_data"
    }
   ],
   "source": [
    "disp = ConfusionMatrixDisplay(confusion_matrix=conf,display_labels=['Cancer','Non Cancer'])\n",
    "disp.plot()"
   ]
  },
  {
   "cell_type": "markdown",
   "id": "775246f6-ab33-41bd-bafc-9b8f376ef4b5",
   "metadata": {},
   "source": [
    "### Classification Report For Finetune model\n",
    "This is a classification report summarizing the performance of a binary classifier on a test set of 200 examples (96 Cancer, 104 Non Cancer). Each metric is computed per class and globally.</br>\n",
    "<b>Precision:<b>\n",
    "\n",
    "<b>Cancer: </b>When the model predicts \"Cancer\", it’s correct 83% of the time.\n",
    "\n",
    "<b>Non Cancer:</b> When it predicts \"Non Cancer\", it’s correct 100% of the time.\n",
    "\n",
    "<b>Recall:</b>\n",
    "\n",
    "<b>Cancer: </b>The model finds all actual Cancer cases (100% recall).\n",
    "\n",
    "<b>Non Cancer:</b> It finds 81% of the actual Non Cancer cases; it misses 19%.\n",
    "\n",
    "<b>F1-Score:</b>\n",
    "\n",
    "The harmonic mean of precision and recall.\n",
    "\n",
    "Balanced performance: 0.91 for Cancer and 0.89 for Non Cancer.\n",
    "\n",
    "<b>Support:</b>\n",
    "\n",
    "Number of true instances per class in the test set.\n",
    "\n",
    "\n"
   ]
  },
  {
   "cell_type": "code",
   "execution_count": 24,
   "id": "a1fd11b8-97f1-4312-a32e-4ba7e647ec23",
   "metadata": {},
   "outputs": [
    {
     "name": "stdout",
     "output_type": "stream",
     "text": [
      "              precision    recall  f1-score   support\n",
      "\n",
      "      Cancer       0.83      1.00      0.91        96\n",
      "  Non Cancer       1.00      0.81      0.89       104\n",
      "\n",
      "    accuracy                           0.90       200\n",
      "   macro avg       0.91      0.90      0.90       200\n",
      "weighted avg       0.92      0.90      0.90       200\n",
      "\n"
     ]
    }
   ],
   "source": [
    "print(classification_report(test_dataset['labels'],[i[\"label\"] for i in output2_res]))"
   ]
  },
  {
   "cell_type": "code",
   "execution_count": 19,
   "id": "db18a02c-9abd-4092-8fbf-70661f9de542",
   "metadata": {},
   "outputs": [
    {
     "name": "stderr",
     "output_type": "stream",
     "text": [
      "Device set to use cpu\n",
      "The following generation flags are not valid and may be ignored: ['temperature']. Set `TRANSFORMERS_VERBOSITY=info` for more details.\n"
     ]
    }
   ],
   "source": [
    "disease_extraction = pipeline(\"text-generation\",model=phi2_base_model,tokenizer=tokenizer,max_new_tokens=10,temperature=0.0,  do_sample=False ,return_full_text=False)"
   ]
  },
  {
   "cell_type": "code",
   "execution_count": 20,
   "id": "91598931-6748-4241-a59f-61b13c7e922f",
   "metadata": {},
   "outputs": [],
   "source": [
    "import warnings\n",
    "warnings.filterwarnings('ignore')\n"
   ]
  },
  {
   "cell_type": "markdown",
   "id": "8cfc3fe5-2333-4e9f-bff5-199b08f71ba7",
   "metadata": {},
   "source": [
    "## Disease Name Extraction using Baseline Model\n",
    "This pipeline enables automated knowledge extraction of disease mentions from raw medical text using a prompt-driven inference mechanism — facilitating downstream tasks like classification, ontology linking, or structured reporting.\n",
    "\n",
    "<b>Iterative Semantic Extraction:</b>\n",
    "The loop iterates over each text instance in the test dataset (e.g., biomedical abstracts or clinical notes) to semantically extract information.\n",
    "\n",
    "<b>Prompt-based Querying:</b>\n",
    "For each text sample, a prompt is dynamically constructed — asking the model to \"Explain the disease name only from the abstract.\"\n",
    "This likely leverages a language model or prompt-based pipeline that can perform open-ended extraction (e.g., GPT, T5, or FLAN-T5 variants).\n",
    "\n",
    "<b>Text-to-Entity Conversion:</b>\n",
    "The function disease_extraction(...) acts as a semantic interpreter, transforming unstructured text into a structured entity: the disease name.\n",
    "Internally, this may involve text generation, NER, or span extraction depending on the model.\n",
    "\n",
    "<b>Result Aggregation:</b>\n",
    "Each extracted disease name (or phrase) is appended to disease_list, building a collection of disease entities for the entire dataset.\n",
    "\n"
   ]
  },
  {
   "cell_type": "code",
   "execution_count": 21,
   "id": "2c1c756f-9202-4743-8d72-c920180daa69",
   "metadata": {},
   "outputs": [
    {
     "name": "stderr",
     "output_type": "stream",
     "text": [
      "  0%|                                                   | 0/200 [00:00<?, ?it/s]The following generation flags are not valid and may be ignored: ['temperature']. Set `TRANSFORMERS_VERBOSITY=info` for more details.\n",
      "  0%|▏                                        | 1/200 [00:36<2:01:13, 36.55s/it]The following generation flags are not valid and may be ignored: ['temperature']. Set `TRANSFORMERS_VERBOSITY=info` for more details.\n",
      "  1%|▍                                        | 2/200 [00:56<1:28:35, 26.85s/it]The following generation flags are not valid and may be ignored: ['temperature']. Set `TRANSFORMERS_VERBOSITY=info` for more details.\n",
      "  2%|▌                                        | 3/200 [01:10<1:08:20, 20.81s/it]The following generation flags are not valid and may be ignored: ['temperature']. Set `TRANSFORMERS_VERBOSITY=info` for more details.\n",
      "  2%|▊                                          | 4/200 [01:24<58:58, 18.05s/it]The following generation flags are not valid and may be ignored: ['temperature']. Set `TRANSFORMERS_VERBOSITY=info` for more details.\n",
      "  2%|█                                        | 5/200 [02:06<1:27:06, 26.80s/it]The following generation flags are not valid and may be ignored: ['temperature']. Set `TRANSFORMERS_VERBOSITY=info` for more details.\n",
      "  3%|█▏                                       | 6/200 [02:23<1:16:09, 23.55s/it]The following generation flags are not valid and may be ignored: ['temperature']. Set `TRANSFORMERS_VERBOSITY=info` for more details.\n",
      "  4%|█▍                                       | 7/200 [02:46<1:14:52, 23.28s/it]The following generation flags are not valid and may be ignored: ['temperature']. Set `TRANSFORMERS_VERBOSITY=info` for more details.\n",
      "  4%|█▋                                       | 8/200 [02:56<1:00:45, 18.99s/it]The following generation flags are not valid and may be ignored: ['temperature']. Set `TRANSFORMERS_VERBOSITY=info` for more details.\n",
      "  4%|█▊                                       | 9/200 [03:32<1:17:27, 24.33s/it]The following generation flags are not valid and may be ignored: ['temperature']. Set `TRANSFORMERS_VERBOSITY=info` for more details.\n",
      "  5%|██                                      | 10/200 [04:10<1:31:06, 28.77s/it]The following generation flags are not valid and may be ignored: ['temperature']. Set `TRANSFORMERS_VERBOSITY=info` for more details.\n",
      "  6%|██▏                                     | 11/200 [04:37<1:28:42, 28.16s/it]The following generation flags are not valid and may be ignored: ['temperature']. Set `TRANSFORMERS_VERBOSITY=info` for more details.\n",
      "  6%|██▍                                     | 12/200 [05:10<1:33:02, 29.70s/it]The following generation flags are not valid and may be ignored: ['temperature']. Set `TRANSFORMERS_VERBOSITY=info` for more details.\n",
      "  6%|██▌                                     | 13/200 [05:26<1:19:19, 25.45s/it]The following generation flags are not valid and may be ignored: ['temperature']. Set `TRANSFORMERS_VERBOSITY=info` for more details.\n",
      "  7%|██▊                                     | 14/200 [05:51<1:18:04, 25.19s/it]The following generation flags are not valid and may be ignored: ['temperature']. Set `TRANSFORMERS_VERBOSITY=info` for more details.\n",
      "  8%|███                                     | 15/200 [06:25<1:25:53, 27.86s/it]The following generation flags are not valid and may be ignored: ['temperature']. Set `TRANSFORMERS_VERBOSITY=info` for more details.\n",
      "  8%|███▏                                    | 16/200 [06:48<1:21:34, 26.60s/it]The following generation flags are not valid and may be ignored: ['temperature']. Set `TRANSFORMERS_VERBOSITY=info` for more details.\n",
      "  8%|███▍                                    | 17/200 [07:01<1:07:53, 22.26s/it]The following generation flags are not valid and may be ignored: ['temperature']. Set `TRANSFORMERS_VERBOSITY=info` for more details.\n",
      "  9%|███▌                                    | 18/200 [07:36<1:19:23, 26.18s/it]The following generation flags are not valid and may be ignored: ['temperature']. Set `TRANSFORMERS_VERBOSITY=info` for more details.\n",
      " 10%|███▊                                    | 19/200 [08:13<1:28:37, 29.38s/it]The following generation flags are not valid and may be ignored: ['temperature']. Set `TRANSFORMERS_VERBOSITY=info` for more details.\n",
      " 10%|████                                    | 20/200 [08:56<1:40:31, 33.51s/it]The following generation flags are not valid and may be ignored: ['temperature']. Set `TRANSFORMERS_VERBOSITY=info` for more details.\n",
      " 10%|████▏                                   | 21/200 [09:22<1:33:39, 31.40s/it]The following generation flags are not valid and may be ignored: ['temperature']. Set `TRANSFORMERS_VERBOSITY=info` for more details.\n",
      " 11%|████▍                                   | 22/200 [09:59<1:37:32, 32.88s/it]The following generation flags are not valid and may be ignored: ['temperature']. Set `TRANSFORMERS_VERBOSITY=info` for more details.\n",
      " 12%|████▌                                   | 23/200 [10:32<1:37:40, 33.11s/it]The following generation flags are not valid and may be ignored: ['temperature']. Set `TRANSFORMERS_VERBOSITY=info` for more details.\n",
      " 12%|████▊                                   | 24/200 [11:08<1:39:29, 33.92s/it]The following generation flags are not valid and may be ignored: ['temperature']. Set `TRANSFORMERS_VERBOSITY=info` for more details.\n",
      " 12%|█████                                   | 25/200 [11:42<1:38:46, 33.87s/it]The following generation flags are not valid and may be ignored: ['temperature']. Set `TRANSFORMERS_VERBOSITY=info` for more details.\n",
      " 13%|█████▏                                  | 26/200 [12:29<1:49:55, 37.90s/it]The following generation flags are not valid and may be ignored: ['temperature']. Set `TRANSFORMERS_VERBOSITY=info` for more details.\n",
      " 14%|█████▍                                  | 27/200 [12:44<1:29:44, 31.13s/it]The following generation flags are not valid and may be ignored: ['temperature']. Set `TRANSFORMERS_VERBOSITY=info` for more details.\n",
      " 14%|█████▌                                  | 28/200 [13:15<1:28:38, 30.92s/it]The following generation flags are not valid and may be ignored: ['temperature']. Set `TRANSFORMERS_VERBOSITY=info` for more details.\n",
      " 14%|█████▊                                  | 29/200 [13:43<1:25:57, 30.16s/it]The following generation flags are not valid and may be ignored: ['temperature']. Set `TRANSFORMERS_VERBOSITY=info` for more details.\n",
      " 15%|██████                                  | 30/200 [14:10<1:22:19, 29.06s/it]The following generation flags are not valid and may be ignored: ['temperature']. Set `TRANSFORMERS_VERBOSITY=info` for more details.\n",
      " 16%|██████▏                                 | 31/200 [14:50<1:31:04, 32.34s/it]The following generation flags are not valid and may be ignored: ['temperature']. Set `TRANSFORMERS_VERBOSITY=info` for more details.\n",
      " 16%|██████▍                                 | 32/200 [15:17<1:25:59, 30.71s/it]The following generation flags are not valid and may be ignored: ['temperature']. Set `TRANSFORMERS_VERBOSITY=info` for more details.\n",
      " 16%|██████▌                                 | 33/200 [15:55<1:31:26, 32.85s/it]The following generation flags are not valid and may be ignored: ['temperature']. Set `TRANSFORMERS_VERBOSITY=info` for more details.\n",
      " 17%|██████▊                                 | 34/200 [16:06<1:13:22, 26.52s/it]The following generation flags are not valid and may be ignored: ['temperature']. Set `TRANSFORMERS_VERBOSITY=info` for more details.\n",
      " 18%|███████                                 | 35/200 [16:44<1:22:05, 29.85s/it]The following generation flags are not valid and may be ignored: ['temperature']. Set `TRANSFORMERS_VERBOSITY=info` for more details.\n",
      " 18%|███████▏                                | 36/200 [17:15<1:22:25, 30.16s/it]The following generation flags are not valid and may be ignored: ['temperature']. Set `TRANSFORMERS_VERBOSITY=info` for more details.\n",
      " 18%|███████▍                                | 37/200 [17:39<1:17:15, 28.44s/it]The following generation flags are not valid and may be ignored: ['temperature']. Set `TRANSFORMERS_VERBOSITY=info` for more details.\n",
      " 19%|███████▌                                | 38/200 [18:09<1:18:04, 28.92s/it]The following generation flags are not valid and may be ignored: ['temperature']. Set `TRANSFORMERS_VERBOSITY=info` for more details.\n",
      " 20%|███████▊                                | 39/200 [18:31<1:12:01, 26.84s/it]The following generation flags are not valid and may be ignored: ['temperature']. Set `TRANSFORMERS_VERBOSITY=info` for more details.\n",
      " 20%|████████                                | 40/200 [18:56<1:10:08, 26.30s/it]The following generation flags are not valid and may be ignored: ['temperature']. Set `TRANSFORMERS_VERBOSITY=info` for more details.\n",
      " 20%|████████▏                               | 41/200 [19:24<1:10:44, 26.70s/it]The following generation flags are not valid and may be ignored: ['temperature']. Set `TRANSFORMERS_VERBOSITY=info` for more details.\n",
      " 21%|████████▍                               | 42/200 [20:03<1:19:54, 30.34s/it]The following generation flags are not valid and may be ignored: ['temperature']. Set `TRANSFORMERS_VERBOSITY=info` for more details.\n",
      " 22%|████████▌                               | 43/200 [20:33<1:19:39, 30.44s/it]The following generation flags are not valid and may be ignored: ['temperature']. Set `TRANSFORMERS_VERBOSITY=info` for more details.\n",
      " 22%|████████▊                               | 44/200 [21:03<1:18:35, 30.22s/it]The following generation flags are not valid and may be ignored: ['temperature']. Set `TRANSFORMERS_VERBOSITY=info` for more details.\n",
      " 22%|█████████                               | 45/200 [21:23<1:10:10, 27.17s/it]The following generation flags are not valid and may be ignored: ['temperature']. Set `TRANSFORMERS_VERBOSITY=info` for more details.\n",
      " 23%|█████████▏                              | 46/200 [21:56<1:14:04, 28.86s/it]The following generation flags are not valid and may be ignored: ['temperature']. Set `TRANSFORMERS_VERBOSITY=info` for more details.\n",
      " 24%|█████████▍                              | 47/200 [22:29<1:17:03, 30.22s/it]The following generation flags are not valid and may be ignored: ['temperature']. Set `TRANSFORMERS_VERBOSITY=info` for more details.\n",
      " 24%|█████████▌                              | 48/200 [22:40<1:01:57, 24.46s/it]The following generation flags are not valid and may be ignored: ['temperature']. Set `TRANSFORMERS_VERBOSITY=info` for more details.\n",
      " 24%|█████████▊                              | 49/200 [23:09<1:04:28, 25.62s/it]The following generation flags are not valid and may be ignored: ['temperature']. Set `TRANSFORMERS_VERBOSITY=info` for more details.\n",
      " 25%|██████████                              | 50/200 [23:36<1:05:05, 26.03s/it]The following generation flags are not valid and may be ignored: ['temperature']. Set `TRANSFORMERS_VERBOSITY=info` for more details.\n",
      " 26%|██████████▏                             | 51/200 [24:10<1:10:59, 28.59s/it]The following generation flags are not valid and may be ignored: ['temperature']. Set `TRANSFORMERS_VERBOSITY=info` for more details.\n",
      " 26%|██████████▍                             | 52/200 [24:26<1:00:50, 24.66s/it]The following generation flags are not valid and may be ignored: ['temperature']. Set `TRANSFORMERS_VERBOSITY=info` for more details.\n",
      " 26%|██████████▌                             | 53/200 [25:04<1:10:37, 28.83s/it]The following generation flags are not valid and may be ignored: ['temperature']. Set `TRANSFORMERS_VERBOSITY=info` for more details.\n",
      " 27%|██████████▊                             | 54/200 [25:31<1:08:52, 28.30s/it]The following generation flags are not valid and may be ignored: ['temperature']. Set `TRANSFORMERS_VERBOSITY=info` for more details.\n",
      " 28%|███████████                             | 55/200 [26:08<1:14:23, 30.79s/it]The following generation flags are not valid and may be ignored: ['temperature']. Set `TRANSFORMERS_VERBOSITY=info` for more details.\n",
      " 28%|███████████▏                            | 56/200 [26:38<1:13:06, 30.46s/it]The following generation flags are not valid and may be ignored: ['temperature']. Set `TRANSFORMERS_VERBOSITY=info` for more details.\n",
      " 28%|███████████▍                            | 57/200 [27:11<1:14:32, 31.27s/it]The following generation flags are not valid and may be ignored: ['temperature']. Set `TRANSFORMERS_VERBOSITY=info` for more details.\n",
      " 29%|███████████▌                            | 58/200 [27:30<1:05:34, 27.71s/it]The following generation flags are not valid and may be ignored: ['temperature']. Set `TRANSFORMERS_VERBOSITY=info` for more details.\n",
      " 30%|███████████▊                            | 59/200 [28:14<1:16:29, 32.55s/it]The following generation flags are not valid and may be ignored: ['temperature']. Set `TRANSFORMERS_VERBOSITY=info` for more details.\n",
      " 30%|████████████                            | 60/200 [28:30<1:04:09, 27.50s/it]The following generation flags are not valid and may be ignored: ['temperature']. Set `TRANSFORMERS_VERBOSITY=info` for more details.\n",
      " 30%|████████████▊                             | 61/200 [28:39<51:17, 22.14s/it]The following generation flags are not valid and may be ignored: ['temperature']. Set `TRANSFORMERS_VERBOSITY=info` for more details.\n",
      " 31%|█████████████                             | 62/200 [29:12<58:17, 25.35s/it]The following generation flags are not valid and may be ignored: ['temperature']. Set `TRANSFORMERS_VERBOSITY=info` for more details.\n",
      " 32%|████████████▌                           | 63/200 [29:47<1:04:07, 28.08s/it]The following generation flags are not valid and may be ignored: ['temperature']. Set `TRANSFORMERS_VERBOSITY=info` for more details.\n",
      " 32%|████████████▊                           | 64/200 [30:22<1:08:42, 30.31s/it]The following generation flags are not valid and may be ignored: ['temperature']. Set `TRANSFORMERS_VERBOSITY=info` for more details.\n",
      " 32%|█████████████                           | 65/200 [30:58<1:11:36, 31.83s/it]The following generation flags are not valid and may be ignored: ['temperature']. Set `TRANSFORMERS_VERBOSITY=info` for more details.\n",
      " 33%|█████████████▊                            | 66/200 [31:08<57:01, 25.53s/it]The following generation flags are not valid and may be ignored: ['temperature']. Set `TRANSFORMERS_VERBOSITY=info` for more details.\n",
      " 34%|█████████████▍                          | 67/200 [32:01<1:14:15, 33.50s/it]The following generation flags are not valid and may be ignored: ['temperature']. Set `TRANSFORMERS_VERBOSITY=info` for more details.\n",
      " 34%|█████████████▌                          | 68/200 [32:22<1:05:51, 29.93s/it]The following generation flags are not valid and may be ignored: ['temperature']. Set `TRANSFORMERS_VERBOSITY=info` for more details.\n",
      " 34%|█████████████▊                          | 69/200 [32:50<1:03:54, 29.27s/it]The following generation flags are not valid and may be ignored: ['temperature']. Set `TRANSFORMERS_VERBOSITY=info` for more details.\n",
      " 35%|██████████████▋                           | 70/200 [33:09<56:35, 26.12s/it]The following generation flags are not valid and may be ignored: ['temperature']. Set `TRANSFORMERS_VERBOSITY=info` for more details.\n",
      " 36%|██████████████▏                         | 71/200 [33:49<1:05:20, 30.39s/it]The following generation flags are not valid and may be ignored: ['temperature']. Set `TRANSFORMERS_VERBOSITY=info` for more details.\n",
      " 36%|██████████████▍                         | 72/200 [34:16<1:02:33, 29.33s/it]The following generation flags are not valid and may be ignored: ['temperature']. Set `TRANSFORMERS_VERBOSITY=info` for more details.\n",
      " 36%|██████████████▌                         | 73/200 [34:49<1:04:30, 30.47s/it]The following generation flags are not valid and may be ignored: ['temperature']. Set `TRANSFORMERS_VERBOSITY=info` for more details.\n",
      " 37%|██████████████▊                         | 74/200 [35:19<1:03:59, 30.47s/it]The following generation flags are not valid and may be ignored: ['temperature']. Set `TRANSFORMERS_VERBOSITY=info` for more details.\n",
      " 38%|███████████████▊                          | 75/200 [35:39<56:31, 27.13s/it]The following generation flags are not valid and may be ignored: ['temperature']. Set `TRANSFORMERS_VERBOSITY=info` for more details.\n",
      " 38%|███████████████▉                          | 76/200 [35:53<47:59, 23.22s/it]The following generation flags are not valid and may be ignored: ['temperature']. Set `TRANSFORMERS_VERBOSITY=info` for more details.\n",
      " 38%|████████████████▏                         | 77/200 [36:11<44:14, 21.58s/it]The following generation flags are not valid and may be ignored: ['temperature']. Set `TRANSFORMERS_VERBOSITY=info` for more details.\n",
      " 39%|████████████████▍                         | 78/200 [36:41<49:08, 24.17s/it]The following generation flags are not valid and may be ignored: ['temperature']. Set `TRANSFORMERS_VERBOSITY=info` for more details.\n",
      " 40%|████████████████▌                         | 79/200 [37:14<54:13, 26.89s/it]The following generation flags are not valid and may be ignored: ['temperature']. Set `TRANSFORMERS_VERBOSITY=info` for more details.\n",
      " 40%|████████████████                        | 80/200 [37:56<1:02:47, 31.40s/it]The following generation flags are not valid and may be ignored: ['temperature']. Set `TRANSFORMERS_VERBOSITY=info` for more details.\n",
      " 40%|█████████████████                         | 81/200 [38:23<59:42, 30.10s/it]The following generation flags are not valid and may be ignored: ['temperature']. Set `TRANSFORMERS_VERBOSITY=info` for more details.\n",
      " 41%|████████████████▍                       | 82/200 [39:07<1:07:28, 34.31s/it]The following generation flags are not valid and may be ignored: ['temperature']. Set `TRANSFORMERS_VERBOSITY=info` for more details.\n",
      " 42%|████████████████▌                       | 83/200 [39:32<1:01:01, 31.30s/it]The following generation flags are not valid and may be ignored: ['temperature']. Set `TRANSFORMERS_VERBOSITY=info` for more details.\n",
      " 42%|█████████████████▋                        | 84/200 [39:47<51:20, 26.55s/it]The following generation flags are not valid and may be ignored: ['temperature']. Set `TRANSFORMERS_VERBOSITY=info` for more details.\n",
      " 42%|█████████████████▊                        | 85/200 [40:22<55:31, 28.97s/it]The following generation flags are not valid and may be ignored: ['temperature']. Set `TRANSFORMERS_VERBOSITY=info` for more details.\n",
      " 43%|██████████████████                        | 86/200 [40:42<50:18, 26.48s/it]The following generation flags are not valid and may be ignored: ['temperature']. Set `TRANSFORMERS_VERBOSITY=info` for more details.\n",
      " 44%|██████████████████▎                       | 87/200 [41:12<51:26, 27.31s/it]The following generation flags are not valid and may be ignored: ['temperature']. Set `TRANSFORMERS_VERBOSITY=info` for more details.\n",
      " 44%|██████████████████▍                       | 88/200 [41:27<44:09, 23.66s/it]The following generation flags are not valid and may be ignored: ['temperature']. Set `TRANSFORMERS_VERBOSITY=info` for more details.\n",
      " 44%|██████████████████▋                       | 89/200 [41:56<47:02, 25.43s/it]The following generation flags are not valid and may be ignored: ['temperature']. Set `TRANSFORMERS_VERBOSITY=info` for more details.\n",
      " 45%|██████████████████▉                       | 90/200 [42:43<58:16, 31.78s/it]The following generation flags are not valid and may be ignored: ['temperature']. Set `TRANSFORMERS_VERBOSITY=info` for more details.\n",
      " 46%|██████████████████▏                     | 91/200 [43:25<1:03:09, 34.76s/it]The following generation flags are not valid and may be ignored: ['temperature']. Set `TRANSFORMERS_VERBOSITY=info` for more details.\n",
      " 46%|███████████████████▎                      | 92/200 [43:36<50:11, 27.89s/it]The following generation flags are not valid and may be ignored: ['temperature']. Set `TRANSFORMERS_VERBOSITY=info` for more details.\n",
      " 46%|███████████████████▌                      | 93/200 [43:58<46:23, 26.02s/it]The following generation flags are not valid and may be ignored: ['temperature']. Set `TRANSFORMERS_VERBOSITY=info` for more details.\n",
      " 47%|███████████████████▋                      | 94/200 [44:11<39:00, 22.08s/it]The following generation flags are not valid and may be ignored: ['temperature']. Set `TRANSFORMERS_VERBOSITY=info` for more details.\n",
      " 48%|███████████████████▉                      | 95/200 [44:32<38:17, 21.88s/it]The following generation flags are not valid and may be ignored: ['temperature']. Set `TRANSFORMERS_VERBOSITY=info` for more details.\n",
      " 48%|████████████████████▏                     | 96/200 [45:03<42:35, 24.57s/it]The following generation flags are not valid and may be ignored: ['temperature']. Set `TRANSFORMERS_VERBOSITY=info` for more details.\n",
      " 48%|████████████████████▎                     | 97/200 [45:31<44:03, 25.66s/it]The following generation flags are not valid and may be ignored: ['temperature']. Set `TRANSFORMERS_VERBOSITY=info` for more details.\n",
      " 49%|████████████████████▌                     | 98/200 [45:58<44:10, 25.98s/it]The following generation flags are not valid and may be ignored: ['temperature']. Set `TRANSFORMERS_VERBOSITY=info` for more details.\n",
      " 50%|████████████████████▊                     | 99/200 [46:16<39:43, 23.60s/it]The following generation flags are not valid and may be ignored: ['temperature']. Set `TRANSFORMERS_VERBOSITY=info` for more details.\n",
      " 50%|████████████████████▌                    | 100/200 [46:54<46:23, 27.83s/it]The following generation flags are not valid and may be ignored: ['temperature']. Set `TRANSFORMERS_VERBOSITY=info` for more details.\n",
      " 50%|████████████████████▋                    | 101/200 [47:43<56:14, 34.08s/it]The following generation flags are not valid and may be ignored: ['temperature']. Set `TRANSFORMERS_VERBOSITY=info` for more details.\n",
      " 51%|████████████████████▉                    | 102/200 [48:08<51:24, 31.48s/it]The following generation flags are not valid and may be ignored: ['temperature']. Set `TRANSFORMERS_VERBOSITY=info` for more details.\n",
      " 52%|█████████████████████                    | 103/200 [48:36<49:25, 30.57s/it]The following generation flags are not valid and may be ignored: ['temperature']. Set `TRANSFORMERS_VERBOSITY=info` for more details.\n",
      " 52%|█████████████████████▎                   | 104/200 [49:01<46:06, 28.82s/it]The following generation flags are not valid and may be ignored: ['temperature']. Set `TRANSFORMERS_VERBOSITY=info` for more details.\n",
      " 52%|█████████████████████▌                   | 105/200 [49:19<40:30, 25.59s/it]The following generation flags are not valid and may be ignored: ['temperature']. Set `TRANSFORMERS_VERBOSITY=info` for more details.\n",
      " 53%|█████████████████████▋                   | 106/200 [50:00<47:20, 30.22s/it]The following generation flags are not valid and may be ignored: ['temperature']. Set `TRANSFORMERS_VERBOSITY=info` for more details.\n",
      " 54%|█████████████████████▉                   | 107/200 [50:32<47:41, 30.77s/it]The following generation flags are not valid and may be ignored: ['temperature']. Set `TRANSFORMERS_VERBOSITY=info` for more details.\n",
      " 54%|██████████████████████▏                  | 108/200 [50:46<39:08, 25.53s/it]The following generation flags are not valid and may be ignored: ['temperature']. Set `TRANSFORMERS_VERBOSITY=info` for more details.\n",
      " 55%|██████████████████████▎                  | 109/200 [51:07<36:48, 24.27s/it]The following generation flags are not valid and may be ignored: ['temperature']. Set `TRANSFORMERS_VERBOSITY=info` for more details.\n",
      " 55%|██████████████████████▌                  | 110/200 [51:37<38:57, 25.97s/it]The following generation flags are not valid and may be ignored: ['temperature']. Set `TRANSFORMERS_VERBOSITY=info` for more details.\n",
      " 56%|██████████████████████▊                  | 111/200 [52:14<43:18, 29.20s/it]The following generation flags are not valid and may be ignored: ['temperature']. Set `TRANSFORMERS_VERBOSITY=info` for more details.\n",
      " 56%|██████████████████████▉                  | 112/200 [52:36<39:47, 27.13s/it]The following generation flags are not valid and may be ignored: ['temperature']. Set `TRANSFORMERS_VERBOSITY=info` for more details.\n",
      " 56%|███████████████████████▏                 | 113/200 [53:00<38:06, 26.29s/it]The following generation flags are not valid and may be ignored: ['temperature']. Set `TRANSFORMERS_VERBOSITY=info` for more details.\n",
      " 57%|███████████████████████▎                 | 114/200 [53:33<40:35, 28.32s/it]The following generation flags are not valid and may be ignored: ['temperature']. Set `TRANSFORMERS_VERBOSITY=info` for more details.\n",
      " 57%|███████████████████████▌                 | 115/200 [54:06<42:07, 29.74s/it]The following generation flags are not valid and may be ignored: ['temperature']. Set `TRANSFORMERS_VERBOSITY=info` for more details.\n",
      " 58%|███████████████████████▊                 | 116/200 [55:00<51:37, 36.87s/it]The following generation flags are not valid and may be ignored: ['temperature']. Set `TRANSFORMERS_VERBOSITY=info` for more details.\n",
      " 58%|███████████████████████▉                 | 117/200 [55:14<41:33, 30.04s/it]The following generation flags are not valid and may be ignored: ['temperature']. Set `TRANSFORMERS_VERBOSITY=info` for more details.\n",
      " 59%|████████████████████████▏                | 118/200 [55:31<35:51, 26.23s/it]The following generation flags are not valid and may be ignored: ['temperature']. Set `TRANSFORMERS_VERBOSITY=info` for more details.\n",
      " 60%|████████████████████████▍                | 119/200 [55:59<36:11, 26.81s/it]The following generation flags are not valid and may be ignored: ['temperature']. Set `TRANSFORMERS_VERBOSITY=info` for more details.\n",
      " 60%|████████████████████████▌                | 120/200 [56:33<38:38, 28.99s/it]The following generation flags are not valid and may be ignored: ['temperature']. Set `TRANSFORMERS_VERBOSITY=info` for more details.\n",
      " 60%|████████████████████████▊                | 121/200 [56:48<32:20, 24.57s/it]The following generation flags are not valid and may be ignored: ['temperature']. Set `TRANSFORMERS_VERBOSITY=info` for more details.\n",
      " 61%|█████████████████████████                | 122/200 [57:20<34:46, 26.75s/it]The following generation flags are not valid and may be ignored: ['temperature']. Set `TRANSFORMERS_VERBOSITY=info` for more details.\n",
      " 62%|█████████████████████████▏               | 123/200 [57:47<34:46, 27.10s/it]The following generation flags are not valid and may be ignored: ['temperature']. Set `TRANSFORMERS_VERBOSITY=info` for more details.\n",
      " 62%|█████████████████████████▍               | 124/200 [57:59<28:14, 22.30s/it]The following generation flags are not valid and may be ignored: ['temperature']. Set `TRANSFORMERS_VERBOSITY=info` for more details.\n",
      " 62%|█████████████████████████▋               | 125/200 [58:32<32:09, 25.72s/it]The following generation flags are not valid and may be ignored: ['temperature']. Set `TRANSFORMERS_VERBOSITY=info` for more details.\n",
      " 63%|█████████████████████████▊               | 126/200 [59:03<33:38, 27.27s/it]The following generation flags are not valid and may be ignored: ['temperature']. Set `TRANSFORMERS_VERBOSITY=info` for more details.\n",
      " 64%|██████████████████████████               | 127/200 [59:37<35:23, 29.09s/it]The following generation flags are not valid and may be ignored: ['temperature']. Set `TRANSFORMERS_VERBOSITY=info` for more details.\n",
      " 64%|██████████████████████████▏              | 128/200 [59:56<31:28, 26.23s/it]The following generation flags are not valid and may be ignored: ['temperature']. Set `TRANSFORMERS_VERBOSITY=info` for more details.\n",
      " 64%|█████████████████████████▏             | 129/200 [1:00:23<31:19, 26.47s/it]The following generation flags are not valid and may be ignored: ['temperature']. Set `TRANSFORMERS_VERBOSITY=info` for more details.\n",
      " 65%|█████████████████████████▎             | 130/200 [1:00:59<34:11, 29.30s/it]The following generation flags are not valid and may be ignored: ['temperature']. Set `TRANSFORMERS_VERBOSITY=info` for more details.\n",
      " 66%|█████████████████████████▌             | 131/200 [1:01:22<31:21, 27.27s/it]The following generation flags are not valid and may be ignored: ['temperature']. Set `TRANSFORMERS_VERBOSITY=info` for more details.\n",
      " 66%|█████████████████████████▋             | 132/200 [1:02:07<36:59, 32.64s/it]The following generation flags are not valid and may be ignored: ['temperature']. Set `TRANSFORMERS_VERBOSITY=info` for more details.\n",
      " 66%|█████████████████████████▉             | 133/200 [1:02:34<34:32, 30.93s/it]The following generation flags are not valid and may be ignored: ['temperature']. Set `TRANSFORMERS_VERBOSITY=info` for more details.\n",
      " 67%|██████████████████████████▏            | 134/200 [1:03:13<36:49, 33.47s/it]The following generation flags are not valid and may be ignored: ['temperature']. Set `TRANSFORMERS_VERBOSITY=info` for more details.\n",
      " 68%|██████████████████████████▎            | 135/200 [1:03:51<37:41, 34.79s/it]The following generation flags are not valid and may be ignored: ['temperature']. Set `TRANSFORMERS_VERBOSITY=info` for more details.\n",
      " 68%|██████████████████████████▌            | 136/200 [1:04:44<42:54, 40.22s/it]The following generation flags are not valid and may be ignored: ['temperature']. Set `TRANSFORMERS_VERBOSITY=info` for more details.\n",
      " 68%|██████████████████████████▋            | 137/200 [1:05:11<38:00, 36.20s/it]The following generation flags are not valid and may be ignored: ['temperature']. Set `TRANSFORMERS_VERBOSITY=info` for more details.\n",
      " 69%|██████████████████████████▉            | 138/200 [1:05:45<36:47, 35.61s/it]The following generation flags are not valid and may be ignored: ['temperature']. Set `TRANSFORMERS_VERBOSITY=info` for more details.\n",
      " 70%|███████████████████████████            | 139/200 [1:06:27<38:19, 37.69s/it]The following generation flags are not valid and may be ignored: ['temperature']. Set `TRANSFORMERS_VERBOSITY=info` for more details.\n",
      " 70%|███████████████████████████▎           | 140/200 [1:07:03<36:58, 36.97s/it]The following generation flags are not valid and may be ignored: ['temperature']. Set `TRANSFORMERS_VERBOSITY=info` for more details.\n",
      " 70%|███████████████████████████▍           | 141/200 [1:07:30<33:24, 33.98s/it]The following generation flags are not valid and may be ignored: ['temperature']. Set `TRANSFORMERS_VERBOSITY=info` for more details.\n",
      " 71%|███████████████████████████▋           | 142/200 [1:07:58<31:13, 32.30s/it]The following generation flags are not valid and may be ignored: ['temperature']. Set `TRANSFORMERS_VERBOSITY=info` for more details.\n",
      " 72%|███████████████████████████▉           | 143/200 [1:08:24<28:59, 30.51s/it]The following generation flags are not valid and may be ignored: ['temperature']. Set `TRANSFORMERS_VERBOSITY=info` for more details.\n",
      " 72%|████████████████████████████           | 144/200 [1:08:35<22:58, 24.62s/it]The following generation flags are not valid and may be ignored: ['temperature']. Set `TRANSFORMERS_VERBOSITY=info` for more details.\n",
      " 72%|████████████████████████████▎          | 145/200 [1:09:28<30:10, 32.93s/it]The following generation flags are not valid and may be ignored: ['temperature']. Set `TRANSFORMERS_VERBOSITY=info` for more details.\n",
      " 73%|████████████████████████████▍          | 146/200 [1:09:52<27:17, 30.32s/it]The following generation flags are not valid and may be ignored: ['temperature']. Set `TRANSFORMERS_VERBOSITY=info` for more details.\n",
      " 74%|████████████████████████████▋          | 147/200 [1:10:10<23:29, 26.60s/it]The following generation flags are not valid and may be ignored: ['temperature']. Set `TRANSFORMERS_VERBOSITY=info` for more details.\n",
      " 74%|████████████████████████████▊          | 148/200 [1:10:44<24:54, 28.74s/it]The following generation flags are not valid and may be ignored: ['temperature']. Set `TRANSFORMERS_VERBOSITY=info` for more details.\n",
      " 74%|█████████████████████████████          | 149/200 [1:11:09<23:39, 27.84s/it]The following generation flags are not valid and may be ignored: ['temperature']. Set `TRANSFORMERS_VERBOSITY=info` for more details.\n",
      " 75%|█████████████████████████████▎         | 150/200 [1:11:36<23:02, 27.65s/it]The following generation flags are not valid and may be ignored: ['temperature']. Set `TRANSFORMERS_VERBOSITY=info` for more details.\n",
      " 76%|█████████████████████████████▍         | 151/200 [1:11:56<20:39, 25.30s/it]The following generation flags are not valid and may be ignored: ['temperature']. Set `TRANSFORMERS_VERBOSITY=info` for more details.\n",
      " 76%|█████████████████████████████▋         | 152/200 [1:12:36<23:38, 29.55s/it]The following generation flags are not valid and may be ignored: ['temperature']. Set `TRANSFORMERS_VERBOSITY=info` for more details.\n",
      " 76%|█████████████████████████████▊         | 153/200 [1:13:00<21:51, 27.90s/it]The following generation flags are not valid and may be ignored: ['temperature']. Set `TRANSFORMERS_VERBOSITY=info` for more details.\n",
      " 77%|██████████████████████████████         | 154/200 [1:13:29<21:41, 28.29s/it]The following generation flags are not valid and may be ignored: ['temperature']. Set `TRANSFORMERS_VERBOSITY=info` for more details.\n",
      " 78%|██████████████████████████████▏        | 155/200 [1:14:04<22:36, 30.15s/it]The following generation flags are not valid and may be ignored: ['temperature']. Set `TRANSFORMERS_VERBOSITY=info` for more details.\n",
      " 78%|██████████████████████████████▍        | 156/200 [1:14:38<22:59, 31.36s/it]The following generation flags are not valid and may be ignored: ['temperature']. Set `TRANSFORMERS_VERBOSITY=info` for more details.\n",
      " 78%|██████████████████████████████▌        | 157/200 [1:15:19<24:40, 34.42s/it]The following generation flags are not valid and may be ignored: ['temperature']. Set `TRANSFORMERS_VERBOSITY=info` for more details.\n",
      " 79%|██████████████████████████████▊        | 158/200 [1:15:43<21:54, 31.31s/it]The following generation flags are not valid and may be ignored: ['temperature']. Set `TRANSFORMERS_VERBOSITY=info` for more details.\n",
      " 80%|███████████████████████████████        | 159/200 [1:16:25<23:28, 34.35s/it]The following generation flags are not valid and may be ignored: ['temperature']. Set `TRANSFORMERS_VERBOSITY=info` for more details.\n",
      " 80%|███████████████████████████████▏       | 160/200 [1:16:54<21:54, 32.87s/it]The following generation flags are not valid and may be ignored: ['temperature']. Set `TRANSFORMERS_VERBOSITY=info` for more details.\n",
      " 80%|███████████████████████████████▍       | 161/200 [1:17:21<20:14, 31.14s/it]The following generation flags are not valid and may be ignored: ['temperature']. Set `TRANSFORMERS_VERBOSITY=info` for more details.\n",
      " 81%|███████████████████████████████▌       | 162/200 [1:17:58<20:42, 32.70s/it]The following generation flags are not valid and may be ignored: ['temperature']. Set `TRANSFORMERS_VERBOSITY=info` for more details.\n",
      " 82%|███████████████████████████████▊       | 163/200 [1:18:28<19:44, 32.00s/it]The following generation flags are not valid and may be ignored: ['temperature']. Set `TRANSFORMERS_VERBOSITY=info` for more details.\n",
      " 82%|███████████████████████████████▉       | 164/200 [1:18:55<18:22, 30.61s/it]The following generation flags are not valid and may be ignored: ['temperature']. Set `TRANSFORMERS_VERBOSITY=info` for more details.\n",
      " 82%|████████████████████████████████▏      | 165/200 [1:19:21<16:59, 29.13s/it]The following generation flags are not valid and may be ignored: ['temperature']. Set `TRANSFORMERS_VERBOSITY=info` for more details.\n",
      " 83%|████████████████████████████████▎      | 166/200 [1:19:40<14:42, 25.97s/it]The following generation flags are not valid and may be ignored: ['temperature']. Set `TRANSFORMERS_VERBOSITY=info` for more details.\n",
      " 84%|████████████████████████████████▌      | 167/200 [1:20:17<16:05, 29.26s/it]The following generation flags are not valid and may be ignored: ['temperature']. Set `TRANSFORMERS_VERBOSITY=info` for more details.\n",
      " 84%|████████████████████████████████▊      | 168/200 [1:20:27<12:38, 23.69s/it]The following generation flags are not valid and may be ignored: ['temperature']. Set `TRANSFORMERS_VERBOSITY=info` for more details.\n",
      " 84%|████████████████████████████████▉      | 169/200 [1:20:54<12:42, 24.61s/it]The following generation flags are not valid and may be ignored: ['temperature']. Set `TRANSFORMERS_VERBOSITY=info` for more details.\n",
      " 85%|█████████████████████████████████▏     | 170/200 [1:21:18<12:09, 24.31s/it]The following generation flags are not valid and may be ignored: ['temperature']. Set `TRANSFORMERS_VERBOSITY=info` for more details.\n",
      " 86%|█████████████████████████████████▎     | 171/200 [1:21:49<12:45, 26.39s/it]The following generation flags are not valid and may be ignored: ['temperature']. Set `TRANSFORMERS_VERBOSITY=info` for more details.\n",
      " 86%|█████████████████████████████████▌     | 172/200 [1:22:53<17:38, 37.79s/it]The following generation flags are not valid and may be ignored: ['temperature']. Set `TRANSFORMERS_VERBOSITY=info` for more details.\n",
      " 86%|█████████████████████████████████▋     | 173/200 [1:23:12<14:28, 32.18s/it]The following generation flags are not valid and may be ignored: ['temperature']. Set `TRANSFORMERS_VERBOSITY=info` for more details.\n",
      " 87%|█████████████████████████████████▉     | 174/200 [1:23:33<12:24, 28.63s/it]The following generation flags are not valid and may be ignored: ['temperature']. Set `TRANSFORMERS_VERBOSITY=info` for more details.\n",
      " 88%|██████████████████████████████████▏    | 175/200 [1:24:04<12:12, 29.30s/it]The following generation flags are not valid and may be ignored: ['temperature']. Set `TRANSFORMERS_VERBOSITY=info` for more details.\n",
      " 88%|██████████████████████████████████▎    | 176/200 [1:24:24<10:38, 26.62s/it]The following generation flags are not valid and may be ignored: ['temperature']. Set `TRANSFORMERS_VERBOSITY=info` for more details.\n",
      " 88%|██████████████████████████████████▌    | 177/200 [1:24:59<11:12, 29.22s/it]The following generation flags are not valid and may be ignored: ['temperature']. Set `TRANSFORMERS_VERBOSITY=info` for more details.\n",
      " 89%|██████████████████████████████████▋    | 178/200 [1:25:23<10:09, 27.72s/it]The following generation flags are not valid and may be ignored: ['temperature']. Set `TRANSFORMERS_VERBOSITY=info` for more details.\n",
      " 90%|██████████████████████████████████▉    | 179/200 [1:25:50<09:36, 27.45s/it]The following generation flags are not valid and may be ignored: ['temperature']. Set `TRANSFORMERS_VERBOSITY=info` for more details.\n",
      " 90%|███████████████████████████████████    | 180/200 [1:26:20<09:23, 28.20s/it]The following generation flags are not valid and may be ignored: ['temperature']. Set `TRANSFORMERS_VERBOSITY=info` for more details.\n",
      " 90%|███████████████████████████████████▎   | 181/200 [1:26:58<09:50, 31.09s/it]The following generation flags are not valid and may be ignored: ['temperature']. Set `TRANSFORMERS_VERBOSITY=info` for more details.\n",
      " 91%|███████████████████████████████████▍   | 182/200 [1:27:20<08:32, 28.47s/it]The following generation flags are not valid and may be ignored: ['temperature']. Set `TRANSFORMERS_VERBOSITY=info` for more details.\n",
      " 92%|███████████████████████████████████▋   | 183/200 [1:27:48<08:00, 28.27s/it]The following generation flags are not valid and may be ignored: ['temperature']. Set `TRANSFORMERS_VERBOSITY=info` for more details.\n",
      " 92%|███████████████████████████████████▉   | 184/200 [1:28:12<07:09, 26.87s/it]The following generation flags are not valid and may be ignored: ['temperature']. Set `TRANSFORMERS_VERBOSITY=info` for more details.\n",
      " 92%|████████████████████████████████████   | 185/200 [1:28:45<07:12, 28.81s/it]The following generation flags are not valid and may be ignored: ['temperature']. Set `TRANSFORMERS_VERBOSITY=info` for more details.\n",
      " 93%|████████████████████████████████████▎  | 186/200 [1:29:15<06:48, 29.17s/it]The following generation flags are not valid and may be ignored: ['temperature']. Set `TRANSFORMERS_VERBOSITY=info` for more details.\n",
      " 94%|████████████████████████████████████▍  | 187/200 [1:29:41<06:04, 28.04s/it]The following generation flags are not valid and may be ignored: ['temperature']. Set `TRANSFORMERS_VERBOSITY=info` for more details.\n",
      " 94%|████████████████████████████████████▋  | 188/200 [1:30:23<06:27, 32.33s/it]The following generation flags are not valid and may be ignored: ['temperature']. Set `TRANSFORMERS_VERBOSITY=info` for more details.\n",
      " 94%|████████████████████████████████████▊  | 189/200 [1:30:57<06:00, 32.80s/it]The following generation flags are not valid and may be ignored: ['temperature']. Set `TRANSFORMERS_VERBOSITY=info` for more details.\n",
      " 95%|█████████████████████████████████████  | 190/200 [1:31:08<04:23, 26.38s/it]The following generation flags are not valid and may be ignored: ['temperature']. Set `TRANSFORMERS_VERBOSITY=info` for more details.\n",
      " 96%|█████████████████████████████████████▏ | 191/200 [1:31:36<04:00, 26.68s/it]The following generation flags are not valid and may be ignored: ['temperature']. Set `TRANSFORMERS_VERBOSITY=info` for more details.\n",
      " 96%|█████████████████████████████████████▍ | 192/200 [1:32:09<03:50, 28.82s/it]The following generation flags are not valid and may be ignored: ['temperature']. Set `TRANSFORMERS_VERBOSITY=info` for more details.\n",
      " 96%|█████████████████████████████████████▋ | 193/200 [1:33:14<04:36, 39.53s/it]The following generation flags are not valid and may be ignored: ['temperature']. Set `TRANSFORMERS_VERBOSITY=info` for more details.\n",
      " 97%|█████████████████████████████████████▊ | 194/200 [1:33:50<03:50, 38.42s/it]The following generation flags are not valid and may be ignored: ['temperature']. Set `TRANSFORMERS_VERBOSITY=info` for more details.\n",
      " 98%|██████████████████████████████████████ | 195/200 [1:34:12<02:48, 33.61s/it]The following generation flags are not valid and may be ignored: ['temperature']. Set `TRANSFORMERS_VERBOSITY=info` for more details.\n",
      " 98%|██████████████████████████████████████▏| 196/200 [1:34:31<01:56, 29.21s/it]The following generation flags are not valid and may be ignored: ['temperature']. Set `TRANSFORMERS_VERBOSITY=info` for more details.\n",
      " 98%|██████████████████████████████████████▍| 197/200 [1:35:06<01:32, 30.86s/it]The following generation flags are not valid and may be ignored: ['temperature']. Set `TRANSFORMERS_VERBOSITY=info` for more details.\n",
      " 99%|██████████████████████████████████████▌| 198/200 [1:35:33<00:59, 29.88s/it]The following generation flags are not valid and may be ignored: ['temperature']. Set `TRANSFORMERS_VERBOSITY=info` for more details.\n",
      "100%|██████████████████████████████████████▊| 199/200 [1:35:52<00:26, 26.42s/it]The following generation flags are not valid and may be ignored: ['temperature']. Set `TRANSFORMERS_VERBOSITY=info` for more details.\n",
      "100%|███████████████████████████████████████| 200/200 [1:36:26<00:00, 28.93s/it]\n"
     ]
    }
   ],
   "source": [
    "disease_list=[]\n",
    "for abstract_extract in  tqdm(test_dataset['text']):\n",
    "    disease_extract = disease_extraction(f\"Explain the disease name only from the abstract text {abstract_extract}\")\n",
    "    disease_list.append(disease_extract)"
   ]
  },
  {
   "cell_type": "code",
   "execution_count": 46,
   "id": "3968b9b9-2907-4744-8ac8-411a0aa365c3",
   "metadata": {},
   "outputs": [],
   "source": [
    "## Output Processing\n",
    "disease_list_proceed=[i[0]['generated_text'].replace(\"Answer\",\"\").replace(\"Keywords\",\"\") for i in disease_list]"
   ]
  },
  {
   "cell_type": "code",
   "execution_count": 47,
   "id": "3eebc775-daa0-4ea7-9edd-4f72d5e8c6ac",
   "metadata": {},
   "outputs": [
    {
     "data": {
      "text/plain": [
       "[' The missense mutation of exons 11 and 35',\n",
       " '\\n\\n- Pyrocarbon\\n- Fib',\n",
       " '  \\n\\n: The disease name is breast',\n",
       " ' XL019 was well tolerated and demonstrated activity in patients',\n",
       " '\\n: Lung cancer; Non-small',\n",
       " ' The cervical spine was stable and the patient was free',\n",
       " '\\nThe study was performed in a cohort of patients',\n",
       " ' We aimed to identify the prevalence of SFTPC',\n",
       " '\\n: Lichen planus, mast',\n",
       " '\\n: Familial adenomat',\n",
       " '\\nA case of Erdheim-Chester disease',\n",
       " '\\nAB - BACKGROUND  MYCN amplification (',\n",
       " ' The phantom is composed of a 3D model of',\n",
       " '\\n: COVID-19, S',\n",
       " '\\nAB - CONTEXT  Inactivating germ',\n",
       " '\\nAgo2-mediated RNA silencing regulates',\n",
       " '  \\n\\nSolution:\\n\\n```python',\n",
       " '\\nAB - BACKGROUND  The mechanisms by which',\n",
       " '\\nThe aim of this study was to investigate the',\n",
       " '\\n: circulating miRNAs, EG',\n",
       " '\\n\\n##Your task: **Rewrite**',\n",
       " ' PMID:26378862\\nABSTR',\n",
       " '\\n: Lung cancer; Radiomics',\n",
       " '\\nAB - BACKGROUND  Thrombop',\n",
       " ' The treatment of pituitary adenomas is',\n",
       " '\\n: Colorectal cancer,',\n",
       " ' We conducted a cross-sectional survey of young women',\n",
       " '\\nAB - BACKGROUND  The importance of Q',\n",
       " '\\nZMIZ1 is a coactivator',\n",
       " '\\nThe nucleosome is the basic unit of',\n",
       " ' GNA13 mutant was associated with a poor prog',\n",
       " '\\n: Fanconi anemia, F',\n",
       " '\\n: Essential thrombocythem',\n",
       " '\\nA retrospective cohort study was conducted using the electronic',\n",
       " '\\n\\n- Lung cancer\\n- PD',\n",
       " '\\nA: The abstract reports on a study that',\n",
       " '\\nThe authors thank the members of the Lab of',\n",
       " '\\nThe authors thank Dr. David J. Lane',\n",
       " '\\nA 27-year-old man presented to',\n",
       " '\\n\\n##Your task: **Rewrite**',\n",
       " '\\n: Ependymoma, Hist',\n",
       " '\\n: Burkitt lymphoma, hem',\n",
       " '\\nAB - BACKGROUND  Pulmonary sar',\n",
       " '\\nA: The abstract reports that a compound called',\n",
       " '\\nMethods: A total of 5,852',\n",
       " '\\n: Pancreatic ductal ad',\n",
       " '\\n: Tuberous sclerosis complex,',\n",
       " '\\nA retrospective study was conducted on patients who underwent',\n",
       " '\\n: Lung cancer; Non-small',\n",
       " '\\nThe authors have provided a mathematical model that can',\n",
       " '\\n: Eltrombopag',\n",
       " '\\n\\n##Your task: **Rewrite**',\n",
       " ' PMID:26984259\\nLPL',\n",
       " '\\nA new drug for the treatment of immune th',\n",
       " '  \\n: Colorectal cancer',\n",
       " '\\n: Liquid biopsy, EGFR',\n",
       " '\\nThe authors thank the patients and their families for',\n",
       " '\\n\\n##Your task: **Rewrite**',\n",
       " ' MiR-181b was associated with the risk',\n",
       " ' We show that itaconate inhibits phagocy',\n",
       " '  \\n\\n**Solution:**\\n\\nThe',\n",
       " '\\n: colon cancer; cannabinoid receptor 2',\n",
       " '\\n: Myelodysplastic',\n",
       " '\\n: Senecavirus A;',\n",
       " '\\n: Mastocytosis, cut',\n",
       " ' Here, we report the first genome-wide association',\n",
       " ' and the National Heart, Lung, and Blood Institute',\n",
       " '\\nThe study was funded by the Wellcome Trust',\n",
       " '\\n: Colorectal cancer;',\n",
       " '\\nMastocytosis encompasses a group of',\n",
       " '\\n: H3 K27M-',\n",
       " '\\nThe aim of this study was to evaluate the',\n",
       " '\\n: Fragile X Tremor/',\n",
       " '\\n: HIV, Long-term non',\n",
       " ' The prognosis for patients with clear cell sarcom',\n",
       " '\\nMethods: We retrospectively reviewed the medical records',\n",
       " '\\n: Ataxia Telangi',\n",
       " '\\nThe aim of this review is to give an',\n",
       " ' We also demonstrate that Pkp3-ET',\n",
       " '\\nAB - BACKGROUND  Molecular and',\n",
       " '\\n\\n\\\\section{Introduction}\\n\\nAl',\n",
       " \"  : Wilms' tumor 1,\",\n",
       " '\\n: sarcoma, round cell',\n",
       " '\\n: MutYH-associated poly',\n",
       " '\\nThe authors would like to thank the patients and',\n",
       " '\\nThe authors have kindly provided the data and code',\n",
       " '\\n: CRISPR-Cas;',\n",
       " ' The most common skin lesions are urticaria,',\n",
       " '\\nThe authors thank Dr. Giorgio P',\n",
       " ' This may allow for earlier identification of patients who may',\n",
       " '\\nAB - OBJECTIVE  To determine the',\n",
       " '  Methods:  A total of 5,8',\n",
       " '\\nMastl is a kinase that is',\n",
       " '\\nMethods: PubMed, Embase, Web of',\n",
       " '\\n\\n##Your task: **Rewrite**',\n",
       " '\\n: mast cell neoplasia,',\n",
       " '\\n\\n- Bone marrow\\n- Mast',\n",
       " '\\nLAT1 is a member of the L',\n",
       " ' The trial is being conducted in the United States,',\n",
       " ' These findings suggest that autophagy may be a',\n",
       " '  Zoledronic acid is a bisphosph',\n",
       " '\\nA novel inhibitor of the ERK5 kin',\n",
       " '\\nAtherosclerosis is a chronic inflammatory disease',\n",
       " '\\nMast cell tumours (MCTs',\n",
       " '\\nThe authors would like to thank the patients and',\n",
       " '\\n: Hemoglobin, Oxygen,',\n",
       " '\\nAB - BACKGROUND  Genomic inversions',\n",
       " '\\n: Polycystic kidney disease,',\n",
       " '\\n: Acinar cell carcinoma,',\n",
       " '\\nA new study has found that a protein called',\n",
       " '\\nThe effect of the COVID-19 pand',\n",
       " ' The ectodomain is thus a membrane-',\n",
       " '\\nThe authors thank the patients and their families for',\n",
       " '\\nA randomized phase II trial of allogeneic',\n",
       " '\\n: Lung cancer, small cell lung',\n",
       " '\\nAB - BACKGROUND  Compared to HPV-',\n",
       " '\\nMethods: We retrospectively analyzed the data of',\n",
       " '  \\n\\n##Your task: **Rewrite',\n",
       " '\\n: Mini-implants, res',\n",
       " '\\n: Ewing sarcoma,',\n",
       " '\\n\\n##Your task: **Rewrite**',\n",
       " '\\n: Pancreatic cancer, nan',\n",
       " '\\n: Tuberous sclerosis complex,',\n",
       " ' In this study, we aimed to identify the most',\n",
       " '\\n: Lung adenocarcin',\n",
       " '\\n: Börjeson-F',\n",
       " '\\nThe DNA damage response orchestrates the repair of',\n",
       " '\\nA study of the association between the MSH',\n",
       " '\\nThe purpose of this study was to determine the',\n",
       " '\\n: Allogeneic hematop',\n",
       " '\\nThe use of human induced pluripotent stem',\n",
       " '\\n: Cytoplasmic transl',\n",
       " '\\n: colorectal cancer,',\n",
       " ' Immunohistochemical staining for BRAF V',\n",
       " '\\nThe role of the immune system in the path',\n",
       " '  PMID:25551701\\nAB',\n",
       " '\\n: Electrochemical sensor; Label-',\n",
       " ' © 2019 Wiley Periodicals, Inc.\\nThe',\n",
       " '\\nAB - BACKGROUND & AIMS  ',\n",
       " '\\nAB - BACKGROUND  Emerging evidence indicates',\n",
       " '\\n: Borderline ovarian tumors, ser',\n",
       " '\\n: Head and neck cancer; Circ',\n",
       " '\\n\\n##Your task: **Rewrite**',\n",
       " '\\nA total of 522 CRC patients were enrolled',\n",
       " '\\n: Xeroderma pigmentosum',\n",
       " '\\nThe authors thank the patients and their families for',\n",
       " '\\nTuberous sclerosis complex (TSC)',\n",
       " '\\n: Pancreatic cancer; Panc',\n",
       " '\\nA 37-year-old man with a',\n",
       " ' PRSS3 is a potential therapeutic target for GC',\n",
       " '\\nThe study of the genetic architecture of human height',\n",
       " '  : papillary-cystic tum',\n",
       " '\\n\\n##Your task: **Rewrite**',\n",
       " '\\nA review of the literature on the clinical features',\n",
       " '\\nAB - BACKGROUND  Patients with elevated',\n",
       " '\\nAB - Background  Acinar cell carcinoma',\n",
       " ' However, ALK IHC and FISH may',\n",
       " ' PMF patients should be closely monitored for the development',\n",
       " ' The presence of two pathogenic variants in heterozyg',\n",
       " '\\n: COVID-19; S',\n",
       " '\\n\\n##Your task: **Rewrite**',\n",
       " '\\n: HIV, SIV, mac',\n",
       " '\\nThe study was approved by the Institutional Review',\n",
       " '\\nThe authors thank the participants of the Exome',\n",
       " '\\nThe study was supported by the National Institutes of',\n",
       " '\\nThe aim of this study was to evaluate the',\n",
       " '\\nThe role of the extracellular matrix in',\n",
       " ' We report a case of VITT in a patient',\n",
       " '  <b></b>  ',\n",
       " '\\nThe aim of this study was to investigate the',\n",
       " '\\n: Non-small cell lung cancer',\n",
       " '\\nThe authors thank the patients who participated in this',\n",
       " '\\nA case of a patient with a rare form',\n",
       " '\\nTuberous sclerosis complex (TSC)',\n",
       " '\\nThe purpose of this study was to determine the',\n",
       " ' The primary endpoint is overall survival (OS). Secondary',\n",
       " ' PMID:26376902\\nA novel',\n",
       " '\\nThe authors have provided a very interesting and important',\n",
       " '\\n: mastocytosis; prog',\n",
       " '\\nA novel method for the detection of rare variants',\n",
       " '\\n: Melanocytic neopl',\n",
       " '\\nAB - Background  Phenotype information is',\n",
       " '\\nA case of a patient with a rare form',\n",
       " '\\n\\n##Your task: **Rewrite**',\n",
       " '\\n: KIT D816V',\n",
       " ' The German HNPCC consortium is a model for',\n",
       " '\\n: Renal cell carcinoma;',\n",
       " '\\nAB - BACKGROUND  In lung cancer,',\n",
       " '  \\n: KIT D816',\n",
       " '\\nA retrospective analysis of the Pulsta valve implant',\n",
       " '\\n: Adipose triglyceride lip',\n",
       " '\\nAB - OBJECTIVE  To assess the',\n",
       " ' The association of HLA-B*08 with',\n",
       " '\\n: Lung cancer; Immune checkpoint',\n",
       " '\\n\\n##Your task: **Rewrite**',\n",
       " ' However, the recurrence of the dislocation after',\n",
       " '\\n: Nonlinear hybridization chain reaction',\n",
       " ' doi: 10.1515/oph-2019',\n",
       " '\\n: Xeroderma pigmentosum',\n",
       " '\\nPantothenate kinase (P']"
      ]
     },
     "execution_count": 47,
     "metadata": {},
     "output_type": "execute_result"
    }
   ],
   "source": []
  }
 ],
 "metadata": {
  "kernelspec": {
   "display_name": "Python 3 (ipykernel)",
   "language": "python",
   "name": "python3"
  },
  "language_info": {
   "codemirror_mode": {
    "name": "ipython",
    "version": 3
   },
   "file_extension": ".py",
   "mimetype": "text/x-python",
   "name": "python",
   "nbconvert_exporter": "python",
   "pygments_lexer": "ipython3",
   "version": "3.12.3"
  }
 },
 "nbformat": 4,
 "nbformat_minor": 5
}
